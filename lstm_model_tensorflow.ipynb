{
 "cells": [
  {
   "cell_type": "code",
   "execution_count": 104,
   "id": "7547d5a0",
   "metadata": {},
   "outputs": [],
   "source": [
    "import numpy as np\n",
    "import pandas as pd\n",
    "import matplotlib.pyplot as plt\n",
    "import tensorflow as tf\n",
    "import keras\n",
    "from keras.preprocessing.text import Tokenizer\n",
    "from tensorflow.keras.preprocessing.sequence import pad_sequences\n",
    "import sklearn\n",
    "from sklearn.preprocessing import LabelEncoder\n",
    "from sklearn.model_selection import train_test_split\n",
    "from transformers import AutoTokenizer"
   ]
  },
  {
   "cell_type": "code",
   "execution_count": 105,
   "id": "2e369aed",
   "metadata": {},
   "outputs": [
    {
     "data": {
      "text/html": [
       "<div>\n",
       "<style scoped>\n",
       "    .dataframe tbody tr th:only-of-type {\n",
       "        vertical-align: middle;\n",
       "    }\n",
       "\n",
       "    .dataframe tbody tr th {\n",
       "        vertical-align: top;\n",
       "    }\n",
       "\n",
       "    .dataframe thead th {\n",
       "        text-align: right;\n",
       "    }\n",
       "</style>\n",
       "<table border=\"1\" class=\"dataframe\">\n",
       "  <thead>\n",
       "    <tr style=\"text-align: right;\">\n",
       "      <th></th>\n",
       "      <th>Course</th>\n",
       "      <th>ID</th>\n",
       "      <th>Department</th>\n",
       "    </tr>\n",
       "  </thead>\n",
       "  <tbody>\n",
       "    <tr>\n",
       "      <th>0</th>\n",
       "      <td>Principles of Nutrition</td>\n",
       "      <td>BIOL</td>\n",
       "      <td>Biology</td>\n",
       "    </tr>\n",
       "    <tr>\n",
       "      <th>1</th>\n",
       "      <td>Nutrition for Fitness and Physical Activity</td>\n",
       "      <td>BIOL</td>\n",
       "      <td>Biology</td>\n",
       "    </tr>\n",
       "    <tr>\n",
       "      <th>2</th>\n",
       "      <td>Introduction to Human Physiology</td>\n",
       "      <td>BIOL</td>\n",
       "      <td>Biology</td>\n",
       "    </tr>\n",
       "    <tr>\n",
       "      <th>3</th>\n",
       "      <td>Biotechnology Management</td>\n",
       "      <td>BIOL</td>\n",
       "      <td>Biology</td>\n",
       "    </tr>\n",
       "    <tr>\n",
       "      <th>4</th>\n",
       "      <td>Living Biology at Brown and Beyond</td>\n",
       "      <td>BIOL</td>\n",
       "      <td>Biology</td>\n",
       "    </tr>\n",
       "  </tbody>\n",
       "</table>\n",
       "</div>"
      ],
      "text/plain": [
       "                                        Course    ID Department\n",
       "0                      Principles of Nutrition  BIOL    Biology\n",
       "1  Nutrition for Fitness and Physical Activity  BIOL    Biology\n",
       "2             Introduction to Human Physiology  BIOL    Biology\n",
       "3                     Biotechnology Management  BIOL    Biology\n",
       "4           Living Biology at Brown and Beyond  BIOL    Biology"
      ]
     },
     "execution_count": 105,
     "metadata": {},
     "output_type": "execute_result"
    }
   ],
   "source": [
    "df = pd.read_csv(\"courses.csv\")\n",
    "pd.set_option('display.max_rows', None)\n",
    "df.head()"
   ]
  },
  {
   "cell_type": "code",
   "execution_count": 106,
   "id": "238748ba",
   "metadata": {},
   "outputs": [
    {
     "data": {
      "text/plain": [
       "Department\n",
       "English                             561\n",
       "History                             380\n",
       "Political Science                   316\n",
       "Engineering                         264\n",
       "Comparative Literature              245\n",
       "Modern Culture and Media            237\n",
       "American Studies                    217\n",
       "Sociology                           210\n",
       "Anthropology                        203\n",
       "Computer Science                    199\n",
       "Music                               188\n",
       "Art History                         183\n",
       "Religious Studies                   179\n",
       "Applied Mathematics                 174\n",
       "Biology                             170\n",
       "Theater and Performance             148\n",
       "Economics                           148\n",
       "Philosophy                          138\n",
       "Africana Studies                    135\n",
       "Public Health                       131\n",
       "Geology                             127\n",
       "Archaeology                         126\n",
       "German                              121\n",
       "International and Public Affairs    109\n",
       "Classics                            103\n",
       "Latin                                93\n",
       "Mathematics                          93\n",
       "Hispanic Studies                     92\n",
       "Physics                              85\n",
       "Ancient Greek                        75\n",
       "Russian                              68\n",
       "Education                            67\n",
       "Judaic Studies                       66\n",
       "Environmental Studies                64\n",
       "Gender and Sexuality Studies         61\n",
       "Italian                              61\n",
       "Humanities                           57\n",
       "Ethnic Studies                       56\n",
       "Chemistry                            53\n",
       "Neuroscience                         53\n",
       "Portuguese and Brazilian Studies     48\n",
       "Visual Art                           46\n",
       "Middle Eastern Studies               44\n",
       "Urban Studies                        43\n",
       "East Asian Studies                   34\n",
       "Assyriology                          34\n",
       "Latin American Studies               31\n",
       "Contemplative Studies                25\n",
       "Egyptology                           25\n",
       "Science Technology and Society       22\n",
       "Slavic Studies                       20\n",
       "Arts Institute                       19\n",
       "Data Science                         19\n",
       "Chinese                              18\n",
       "Czech                                18\n",
       "Japanese                             17\n",
       "Sanskrit                             14\n",
       "Arabic                               13\n",
       "Modern Greek                         13\n",
       "Korean                               13\n",
       "Persian                              12\n",
       "South Asian Studies                  12\n",
       "Public Humanities                    11\n",
       "Turkish                               9\n",
       "Language Studies                      9\n",
       "Polish                                9\n",
       "American Sign Language                7\n",
       "Hebrew                                7\n",
       "Native American Studies               7\n",
       "Nahuatl                               6\n",
       "Yoruba                                5\n",
       "Hindi-Urdu                            5\n",
       "Catalan                               4\n",
       "Swedish                               4\n",
       "Vietnamese                            4\n",
       "Early Cultures                        4\n",
       "Medeival Studies                      3\n",
       "Name: count, dtype: int64"
      ]
     },
     "execution_count": 106,
     "metadata": {},
     "output_type": "execute_result"
    }
   ],
   "source": [
    "counts = df['Department'].value_counts()\n",
    "df['Department'].value_counts()"
   ]
  },
  {
   "cell_type": "code",
   "execution_count": 107,
   "id": "ab2514ea",
   "metadata": {},
   "outputs": [],
   "source": [
    "department_mapping = {\n",
    "    'History': 'History & Social Sciences',\n",
    "    'Political Science': 'History & Social Sciences',\n",
    "    'International and Public Affairs': 'History & Social Sciences',\n",
    "    'Sociology': 'History & Social Sciences',\n",
    "    'Anthropology': 'History & Social Sciences',\n",
    "    'Africana Studies': 'History & Social Sciences',\n",
    "    'Public Health': 'History & Social Sciences',\n",
    "    'Economics': 'History & Social Sciences',\n",
    "    'Education': 'History & Social Sciences',\n",
    "    'Gender and Sexuality Studies': 'History & Social Sciences',\n",
    "    'Urban Studies': 'History & Social Sciences',\n",
    "\n",
    "    'Mathematics': 'STEM',\n",
    "    'Applied Mathematics': 'STEM',\n",
    "    'Physics': 'STEM',\n",
    "    'Engineering': 'STEM',\n",
    "    'Computer Science': 'STEM',\n",
    "    'Biology': 'STEM',\n",
    "    'Neuroscience': 'STEM',\n",
    "    'Chemistry': 'STEM',\n",
    "    'Geology': 'STEM',\n",
    "    'Data Science': 'STEM',\n",
    "    'Environmental Studies': 'STEM',\n",
    "\n",
    "    'Modern Culture and Media': 'Arts & Media',\n",
    "    'Music': 'Arts & Media',\n",
    "    'Theater and Performance': 'Arts & Media',\n",
    "    'Visual Art': 'Arts & Media',\n",
    "    'Art History': 'Arts & Media',\n",
    "    'Arts Institute': 'Arts & Media',\n",
    "    'English': 'Arts & Media',\n",
    "    'Comparative Literature': 'Arts & Media',\n",
    "\n",
    "    'Philosophy': 'Philosophy & Religion',\n",
    "    'Religious Studies': 'Philosophy & Religion',\n",
    "    'Contemplative Studies': 'Philosophy & Religion',\n",
    "    'Judaic Studies': 'Philosophy & Religion',\n",
    "\n",
    "    'Latin': 'Languages',\n",
    "    'Ancient Greek': 'Languages',\n",
    "    'German': 'Languages',\n",
    "    'Russian': 'Languages',\n",
    "    'Italian': 'Languages',\n",
    "    'Portuguese and Brazilian Studies': 'Languages',\n",
    "    'East Asian Studies': 'Languages',\n",
    "    'Chinese': 'Languages',\n",
    "    'Japanese': 'Languages',\n",
    "    'Korean': 'Languages',\n",
    "    'Hindi-Urdu': 'Languages',\n",
    "    'Arabic': 'Languages',\n",
    "    'Sanskrit': 'Languages',\n",
    "    'Persian': 'Languages',\n",
    "    'Swedish': 'Languages',\n",
    "    'Catalan': 'Languages',\n",
    "    'Vietnamese': 'Languages',\n",
    "    'Polish': 'Languages',\n",
    "    'Hebrew': 'Languages',\n",
    "    'Turkish': 'Languages',\n",
    "    'Yoruba': 'Languages',\n",
    "    'Czech': 'Languages',\n",
    "    'Language Studies': 'Languages',\n",
    "    'Native American Studies': 'Languages',\n",
    "\n",
    "    'Egyptology': 'Ancient Studies',\n",
    "    'Assyriology': 'Ancient Studies',\n",
    "    'Classics': 'Ancient Studies',\n",
    "    'Archaeology': 'Ancient Studies',\n",
    "    'Early Cultures': 'Ancient Studies',\n",
    "    'Medeival Studies': 'Ancient Studies',\n",
    "\n",
    "    'Other': 'Other'\n",
    "}"
   ]
  },
  {
   "cell_type": "code",
   "execution_count": 108,
   "id": "42930459",
   "metadata": {},
   "outputs": [
    {
     "data": {
      "text/plain": [
       "Department_Grouped\n",
       "History & Social Sciences    1803\n",
       "Arts & Media                 1627\n",
       "STEM                         1301\n",
       "Languages                     668\n",
       "Other                         588\n",
       "Philosophy & Religion         408\n",
       "Ancient Studies               295\n",
       "Name: count, dtype: int64"
      ]
     },
     "execution_count": 108,
     "metadata": {},
     "output_type": "execute_result"
    }
   ],
   "source": [
    "df['Department_Grouped'] = df['Department'].map(department_mapping).fillna('Other')\n",
    "df['Department_Grouped'].value_counts()"
   ]
  },
  {
   "cell_type": "code",
   "execution_count": 109,
   "id": "0ea52679",
   "metadata": {},
   "outputs": [],
   "source": [
    "labels_text = df['Department']\n",
    "text = df['Course']"
   ]
  },
  {
   "cell_type": "code",
   "execution_count": 110,
   "id": "488faa13",
   "metadata": {},
   "outputs": [],
   "source": [
    "tokenizer = Tokenizer()\n",
    "tokenizer.fit_on_texts(text)"
   ]
  },
  {
   "cell_type": "code",
   "execution_count": 111,
   "id": "989e2590",
   "metadata": {},
   "outputs": [],
   "source": [
    "sequences = tokenizer.texts_to_sequences(text)\n",
    "max_length = max([len(seq) for seq in sequences])\n",
    "padded_sequences = pad_sequences(sequences, maxlen=max_length)"
   ]
  },
  {
   "cell_type": "code",
   "execution_count": 112,
   "id": "9bff859e",
   "metadata": {},
   "outputs": [],
   "source": [
    "label_encoder = LabelEncoder()\n",
    "labels = label_encoder.fit_transform(labels_text) "
   ]
  },
  {
   "cell_type": "code",
   "execution_count": 113,
   "id": "3a177b06",
   "metadata": {},
   "outputs": [
    {
     "name": "stdout",
     "output_type": "stream",
     "text": [
      "(6690, 77)\n"
     ]
    }
   ],
   "source": [
    "one_hot_labels = keras.utils.to_categorical(labels)\n",
    "print(one_hot_labels.shape)"
   ]
  },
  {
   "cell_type": "code",
   "execution_count": 121,
   "id": "9ef5d6b5",
   "metadata": {},
   "outputs": [],
   "source": [
    "X_train, X_val, y_train, y_val = train_test_split(padded_sequences, one_hot_labels, test_size=0.2, random_state=17)"
   ]
  },
  {
   "cell_type": "code",
   "execution_count": 122,
   "id": "5cf68631",
   "metadata": {},
   "outputs": [],
   "source": [
    "embeddings_index = {}\n",
    "with open('glove.6B.100d.txt') as f:\n",
    "    for line in f:\n",
    "        word, coefs = line.split(maxsplit=1)\n",
    "        coefs = np.fromstring(coefs, \"f\", sep=\" \")\n",
    "        embeddings_index[word] = coefs"
   ]
  },
  {
   "cell_type": "code",
   "execution_count": 123,
   "id": "ce3d3c6b",
   "metadata": {},
   "outputs": [
    {
     "data": {
      "text/plain": [
       "(4435, 100)"
      ]
     },
     "execution_count": 123,
     "metadata": {},
     "output_type": "execute_result"
    }
   ],
   "source": [
    "embedding_dim = 100\n",
    "embedding_matrix = np.zeros((len(tokenizer.word_index) + 1, embedding_dim))\n",
    "for word, i in tokenizer.word_index.items():\n",
    "    embedding_vector = embeddings_index.get(word)\n",
    "    if embedding_vector is not None:\n",
    "        embedding_matrix[i] = embedding_vector\n",
    "embedding_matrix.shape"
   ]
  },
  {
   "cell_type": "code",
   "execution_count": 124,
   "id": "8cd26c6b",
   "metadata": {},
   "outputs": [],
   "source": [
    "trainable = True\n",
    "model = tf.keras.Sequential([\n",
    "    tf.keras.layers.Embedding(input_dim=len(tokenizer.word_index) + 1, output_dim=embedding_dim, weights=[embedding_matrix], input_length=max_length, trainable=trainable),\n",
    "    tf.keras.layers.Bidirectional(tf.keras.layers.LSTM(64)),\n",
    "    tf.keras.layers.Dense(len(label_encoder.classes_), activation='softmax')\n",
    "])\n",
    "model.compile(optimizer='adam', loss='categorical_crossentropy', metrics=['accuracy'])"
   ]
  },
  {
   "cell_type": "code",
   "execution_count": 125,
   "id": "7ee43f66",
   "metadata": {},
   "outputs": [
    {
     "name": "stdout",
     "output_type": "stream",
     "text": [
      "Model: \"sequential_7\"\n",
      "_________________________________________________________________\n",
      " Layer (type)                Output Shape              Param #   \n",
      "=================================================================\n",
      " embedding_7 (Embedding)     (None, 17, 100)           443500    \n",
      "                                                                 \n",
      " bidirectional_7 (Bidirecti  (None, 128)               84480     \n",
      " onal)                                                           \n",
      "                                                                 \n",
      " dense_7 (Dense)             (None, 77)                9933      \n",
      "                                                                 \n",
      "=================================================================\n",
      "Total params: 537913 (2.05 MB)\n",
      "Trainable params: 537913 (2.05 MB)\n",
      "Non-trainable params: 0 (0.00 Byte)\n",
      "_________________________________________________________________\n"
     ]
    }
   ],
   "source": [
    "model.summary()"
   ]
  },
  {
   "cell_type": "code",
   "execution_count": 126,
   "id": "920ba54e",
   "metadata": {},
   "outputs": [],
   "source": [
    "early_stopping = tf.keras.callbacks.EarlyStopping(monitor='val_loss', patience=5, min_delta=0.001, restore_best_weights=True)"
   ]
  },
  {
   "cell_type": "code",
   "execution_count": 127,
   "id": "dc29e891",
   "metadata": {},
   "outputs": [
    {
     "name": "stdout",
     "output_type": "stream",
     "text": [
      "Epoch 1/25\n",
      "168/168 [==============================] - 3s 11ms/step - loss: 3.4975 - accuracy: 0.1680 - val_loss: 2.9187 - val_accuracy: 0.2586\n",
      "Epoch 2/25\n",
      "168/168 [==============================] - 2s 9ms/step - loss: 2.5062 - accuracy: 0.3713 - val_loss: 2.3577 - val_accuracy: 0.3901\n",
      "Epoch 3/25\n",
      "168/168 [==============================] - 2s 9ms/step - loss: 1.9517 - accuracy: 0.5032 - val_loss: 2.0826 - val_accuracy: 0.4372\n",
      "Epoch 4/25\n",
      "168/168 [==============================] - 2s 10ms/step - loss: 1.5734 - accuracy: 0.5906 - val_loss: 1.9447 - val_accuracy: 0.4828\n",
      "Epoch 5/25\n",
      "168/168 [==============================] - 2s 9ms/step - loss: 1.2885 - accuracy: 0.6652 - val_loss: 1.8806 - val_accuracy: 0.5000\n",
      "Epoch 6/25\n",
      "168/168 [==============================] - 2s 9ms/step - loss: 1.0552 - accuracy: 0.7246 - val_loss: 1.8836 - val_accuracy: 0.5000\n",
      "Epoch 7/25\n",
      "168/168 [==============================] - 2s 9ms/step - loss: 0.8841 - accuracy: 0.7700 - val_loss: 1.8808 - val_accuracy: 0.5157\n",
      "Epoch 8/25\n",
      "168/168 [==============================] - 2s 10ms/step - loss: 0.7348 - accuracy: 0.8092 - val_loss: 1.8727 - val_accuracy: 0.5135\n",
      "Epoch 9/25\n",
      "168/168 [==============================] - 2s 10ms/step - loss: 0.6168 - accuracy: 0.8404 - val_loss: 1.9028 - val_accuracy: 0.5232\n",
      "Epoch 10/25\n",
      "168/168 [==============================] - 2s 9ms/step - loss: 0.5109 - accuracy: 0.8660 - val_loss: 1.9513 - val_accuracy: 0.5202\n",
      "Epoch 11/25\n",
      "168/168 [==============================] - 2s 10ms/step - loss: 0.4321 - accuracy: 0.8922 - val_loss: 1.9678 - val_accuracy: 0.5194\n",
      "Epoch 12/25\n",
      "168/168 [==============================] - 2s 10ms/step - loss: 0.3608 - accuracy: 0.9081 - val_loss: 2.0175 - val_accuracy: 0.5194\n",
      "Epoch 13/25\n",
      "168/168 [==============================] - 2s 10ms/step - loss: 0.3084 - accuracy: 0.9191 - val_loss: 2.0418 - val_accuracy: 0.5157\n"
     ]
    },
    {
     "data": {
      "text/plain": [
       "[<matplotlib.lines.Line2D at 0x307128a60>]"
      ]
     },
     "execution_count": 127,
     "metadata": {},
     "output_type": "execute_result"
    },
    {
     "data": {
      "image/png": "[encoded data removed]",
      "text/plain": [
       "<Figure size 640x480 with 1 Axes>"
      ]
     },
     "metadata": {},
     "output_type": "display_data"
    }
   ],
   "source": [
    "history = model.fit(X_train, y_train, epochs=25, batch_size=32, validation_data=(X_val, y_val), callbacks=[early_stopping])\n",
    "plt.plot(history.history['accuracy'], label='accuracy')\n",
    "plt.plot(history.history['val_accuracy'], label='val_accuracy')"
   ]
  },
  {
   "cell_type": "code",
   "execution_count": 138,
   "id": "5103af51",
   "metadata": {},
   "outputs": [
    {
     "name": "stdout",
     "output_type": "stream",
     "text": [
      "1/1 [==============================] - 0s 13ms/step\n",
      "Top 5 Predicted Departments:\n",
      "History: 0.4852\n",
      "Political Science: 0.0953\n",
      "International and Public Affairs: 0.0801\n",
      "Middle Eastern Studies: 0.0702\n",
      "Classics: 0.0333\n",
      "Text: War and Peace in Arabia => Predicted Label: History\n"
     ]
    }
   ],
   "source": [
    "predict_text = [\"War and Peace in Arabia\"]\n",
    "\n",
    "predict_seq = tokenizer.texts_to_sequences(predict_text)\n",
    "predict_pad = pad_sequences(predict_seq, maxlen=max_length)\n",
    "predictions = model.predict(predict_pad)\n",
    "\n",
    "# Print probability diestribution\n",
    "predictions = pd.DataFrame(predictions, columns=label_encoder.classes_)\n",
    "pred_series = predictions.iloc[0]\n",
    "top_5 = pred_series.sort_values(ascending=False).head(5)\n",
    "print(\"Top 5 Predicted Departments:\")\n",
    "for dept, prob in top_5.items():\n",
    "    print(f\"{dept}: {prob:.4f}\")\n",
    "\n",
    "predicted_labels = np.argmax(predictions, axis=1)\n",
    "predicted_labels_text = label_encoder.inverse_transform(predicted_labels)\n",
    "for text, label in zip(predict_text, predicted_labels_text):\n",
    "    print(f\"Text: {text} => Predicted Label: {label}\")"
   ]
  },
  {
   "cell_type": "code",
   "execution_count": 129,
   "id": "e1c26856",
   "metadata": {},
   "outputs": [
    {
     "name": "stderr",
     "output_type": "stream",
     "text": [
      "/Users/chaiharsha/Documents/course_classifier/courseenvfull/lib/python3.10/site-packages/keras/src/engine/training.py:3079: UserWarning: You are saving your model as an HDF5 file via `model.save()`. This file format is considered legacy. We recommend using instead the native Keras format, e.g. `model.save('my_model.keras')`.\n",
      "  saving_api.save_model(\n"
     ]
    }
   ],
   "source": [
    "model.save('lstm_tf.h5')"
   ]
  }
 ],
 "metadata": {
  "kernelspec": {
   "display_name": "courseenvfull",
   "language": "python",
   "name": "python3"
  },
  "language_info": {
   "codemirror_mode": {
    "name": "ipython",
    "version": 3
   },
   "file_extension": ".py",
   "mimetype": "text/x-python",
   "name": "python",
   "nbconvert_exporter": "python",
   "pygments_lexer": "ipython3",
   "version": "3.10.9"
  }
 },
 "nbformat": 4,
 "nbformat_minor": 5
}
