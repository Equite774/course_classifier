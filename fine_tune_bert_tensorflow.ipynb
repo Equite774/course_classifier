{
 "cells": [
  {
   "cell_type": "code",
   "execution_count": 42,
   "id": "8f6e3185",
   "metadata": {},
   "outputs": [],
   "source": [
    "import numpy as np\n",
    "import pandas as pd\n",
    "import matplotlib.pyplot as plt\n",
    "import tensorflow as tf\n",
    "import keras\n",
    "from keras.preprocessing.text import Tokenizer\n",
    "from tensorflow.keras.preprocessing.sequence import pad_sequences\n",
    "import sklearn\n",
    "from sklearn.preprocessing import LabelEncoder\n",
    "from sklearn.model_selection import train_test_split\n",
    "from transformers import AutoTokenizer, TFAutoModelForSequenceClassification"
   ]
  },
  {
   "cell_type": "code",
   "execution_count": 43,
   "id": "0ff6ef73",
   "metadata": {},
   "outputs": [
    {
     "data": {
      "text/html": [
       "<div>\n",
       "<style scoped>\n",
       "    .dataframe tbody tr th:only-of-type {\n",
       "        vertical-align: middle;\n",
       "    }\n",
       "\n",
       "    .dataframe tbody tr th {\n",
       "        vertical-align: top;\n",
       "    }\n",
       "\n",
       "    .dataframe thead th {\n",
       "        text-align: right;\n",
       "    }\n",
       "</style>\n",
       "<table border=\"1\" class=\"dataframe\">\n",
       "  <thead>\n",
       "    <tr style=\"text-align: right;\">\n",
       "      <th></th>\n",
       "      <th>Course</th>\n",
       "      <th>ID</th>\n",
       "      <th>Department</th>\n",
       "    </tr>\n",
       "  </thead>\n",
       "  <tbody>\n",
       "    <tr>\n",
       "      <th>0</th>\n",
       "      <td>Principles of Nutrition</td>\n",
       "      <td>BIOL</td>\n",
       "      <td>Biology</td>\n",
       "    </tr>\n",
       "    <tr>\n",
       "      <th>1</th>\n",
       "      <td>Nutrition for Fitness and Physical Activity</td>\n",
       "      <td>BIOL</td>\n",
       "      <td>Biology</td>\n",
       "    </tr>\n",
       "    <tr>\n",
       "      <th>2</th>\n",
       "      <td>Introduction to Human Physiology</td>\n",
       "      <td>BIOL</td>\n",
       "      <td>Biology</td>\n",
       "    </tr>\n",
       "    <tr>\n",
       "      <th>3</th>\n",
       "      <td>Biotechnology Management</td>\n",
       "      <td>BIOL</td>\n",
       "      <td>Biology</td>\n",
       "    </tr>\n",
       "    <tr>\n",
       "      <th>4</th>\n",
       "      <td>Living Biology at Brown and Beyond</td>\n",
       "      <td>BIOL</td>\n",
       "      <td>Biology</td>\n",
       "    </tr>\n",
       "  </tbody>\n",
       "</table>\n",
       "</div>"
      ],
      "text/plain": [
       "                                        Course    ID Department\n",
       "0                      Principles of Nutrition  BIOL    Biology\n",
       "1  Nutrition for Fitness and Physical Activity  BIOL    Biology\n",
       "2             Introduction to Human Physiology  BIOL    Biology\n",
       "3                     Biotechnology Management  BIOL    Biology\n",
       "4           Living Biology at Brown and Beyond  BIOL    Biology"
      ]
     },
     "execution_count": 43,
     "metadata": {},
     "output_type": "execute_result"
    }
   ],
   "source": [
    "df = pd.read_csv('courses.csv')\n",
    "df.head()"
   ]
  },
  {
   "cell_type": "code",
   "execution_count": 44,
   "id": "a38beb03",
   "metadata": {},
   "outputs": [],
   "source": [
    "department_mapping = {\n",
    "    'History': 'History & Social Sciences',\n",
    "    'Political Science': 'History & Social Sciences',\n",
    "    'International and Public Affairs': 'History & Social Sciences',\n",
    "    'Sociology': 'History & Social Sciences',\n",
    "    'Anthropology': 'History & Social Sciences',\n",
    "    'Africana Studies': 'History & Social Sciences',\n",
    "    'Public Health': 'History & Social Sciences',\n",
    "    'Economics': 'History & Social Sciences',\n",
    "    'Education': 'History & Social Sciences',\n",
    "    'Gender and Sexuality Studies': 'History & Social Sciences',\n",
    "    'Urban Studies': 'History & Social Sciences',\n",
    "\n",
    "    'Mathematics': 'STEM',\n",
    "    'Applied Mathematics': 'STEM',\n",
    "    'Physics': 'STEM',\n",
    "    'Engineering': 'STEM',\n",
    "    'Computer Science': 'STEM',\n",
    "    'Biology': 'STEM',\n",
    "    'Neuroscience': 'STEM',\n",
    "    'Chemistry': 'STEM',\n",
    "    'Geology': 'STEM',\n",
    "    'Data Science': 'STEM',\n",
    "    'Environmental Studies': 'STEM',\n",
    "\n",
    "    'Modern Culture and Media': 'Arts & Media',\n",
    "    'Music': 'Arts & Media',\n",
    "    'Theater and Performance': 'Arts & Media',\n",
    "    'Visual Art': 'Arts & Media',\n",
    "    'Art History': 'Arts & Media',\n",
    "    'Arts Institute': 'Arts & Media',\n",
    "    'English': 'Arts & Media',\n",
    "    'Comparative Literature': 'Arts & Media',\n",
    "\n",
    "    'Philosophy': 'Philosophy & Religion',\n",
    "    'Religious Studies': 'Philosophy & Religion',\n",
    "    'Contemplative Studies': 'Philosophy & Religion',\n",
    "    'Judaic Studies': 'Philosophy & Religion',\n",
    "\n",
    "    'Latin': 'Languages',\n",
    "    'Ancient Greek': 'Languages',\n",
    "    'German': 'Languages',\n",
    "    'Russian': 'Languages',\n",
    "    'Italian': 'Languages',\n",
    "    'Portuguese and Brazilian Studies': 'Languages',\n",
    "    'East Asian Studies': 'Languages',\n",
    "    'Chinese': 'Languages',\n",
    "    'Japanese': 'Languages',\n",
    "    'Korean': 'Languages',\n",
    "    'Hindi-Urdu': 'Languages',\n",
    "    'Arabic': 'Languages',\n",
    "    'Sanskrit': 'Languages',\n",
    "    'Persian': 'Languages',\n",
    "    'Swedish': 'Languages',\n",
    "    'Catalan': 'Languages',\n",
    "    'Vietnamese': 'Languages',\n",
    "    'Polish': 'Languages',\n",
    "    'Hebrew': 'Languages',\n",
    "    'Turkish': 'Languages',\n",
    "    'Yoruba': 'Languages',\n",
    "    'Czech': 'Languages',\n",
    "    'Language Studies': 'Languages',\n",
    "    'Native American Studies': 'Languages',\n",
    "\n",
    "    'Egyptology': 'Ancient Studies',\n",
    "    'Assyriology': 'Ancient Studies',\n",
    "    'Classics': 'Ancient Studies',\n",
    "    'Archaeology': 'Ancient Studies',\n",
    "    'Early Cultures': 'Ancient Studies',\n",
    "    'Medeival Studies': 'Ancient Studies',\n",
    "\n",
    "    'Other': 'Other'\n",
    "}"
   ]
  },
  {
   "cell_type": "code",
   "execution_count": 45,
   "id": "9e792c1b",
   "metadata": {},
   "outputs": [],
   "source": [
    "df['Department_Grouped'] = df['Department'].map(department_mapping).fillna('Other')"
   ]
  },
  {
   "cell_type": "code",
   "execution_count": 46,
   "id": "78d81c09",
   "metadata": {},
   "outputs": [],
   "source": [
    "text = df['Course']\n",
    "labels_text = df['Department']"
   ]
  },
  {
   "cell_type": "code",
   "execution_count": 47,
   "id": "fe05ecf6",
   "metadata": {},
   "outputs": [
    {
     "name": "stdout",
     "output_type": "stream",
     "text": [
      "(6690, 26)\n"
     ]
    }
   ],
   "source": [
    "text_list = text.tolist()\n",
    "tokenizer = AutoTokenizer.from_pretrained(\"bert-base-uncased\")\n",
    "encoded = tokenizer(text_list, padding=True, return_tensors='np')\n",
    "sequences = encoded['input_ids']\n",
    "print(sequences.shape)\n",
    "max_length = sequences.shape[1]"
   ]
  },
  {
   "cell_type": "code",
   "execution_count": 49,
   "id": "11f9c8ab",
   "metadata": {},
   "outputs": [],
   "source": [
    "label_encoder = LabelEncoder()\n",
    "labels = label_encoder.fit_transform(labels_text)"
   ]
  },
  {
   "cell_type": "code",
   "execution_count": null,
   "id": "dd344977",
   "metadata": {},
   "outputs": [],
   "source": [
    "X_train, X_test, y_train, y_test = train_test_split(sequences, labels, test_size=0.2, random_state=17)"
   ]
  },
  {
   "cell_type": "code",
   "execution_count": 51,
   "id": "6e6a90af",
   "metadata": {},
   "outputs": [
    {
     "name": "stderr",
     "output_type": "stream",
     "text": [
      "Some weights of the PyTorch model were not used when initializing the TF 2.0 model TFDistilBertForSequenceClassification: ['vocab_transform.bias', 'vocab_layer_norm.bias', 'vocab_projector.bias', 'vocab_layer_norm.weight', 'vocab_transform.weight']\n",
      "- This IS expected if you are initializing TFDistilBertForSequenceClassification from a PyTorch model trained on another task or with another architecture (e.g. initializing a TFBertForSequenceClassification model from a BertForPreTraining model).\n",
      "- This IS NOT expected if you are initializing TFDistilBertForSequenceClassification from a PyTorch model that you expect to be exactly identical (e.g. initializing a TFBertForSequenceClassification model from a BertForSequenceClassification model).\n",
      "Some weights or buffers of the TF 2.0 model TFDistilBertForSequenceClassification were not initialized from the PyTorch model and are newly initialized: ['pre_classifier.weight', 'pre_classifier.bias', 'classifier.weight', 'classifier.bias']\n",
      "You should probably TRAIN this model on a down-stream task to be able to use it for predictions and inference.\n"
     ]
    }
   ],
   "source": [
    "model = TFAutoModelForSequenceClassification.from_pretrained(\"distilbert-base-uncased\", num_labels=len(label_encoder.classes_))"
   ]
  },
  {
   "cell_type": "code",
   "execution_count": 52,
   "id": "cb30e5ad",
   "metadata": {},
   "outputs": [],
   "source": [
    "model.distilbert.trainable = False\n",
    "model.compile(optimizer=tf.keras.optimizers.legacy.Adam(learning_rate=5e-3),\n",
    "               loss=tf.keras.losses.SparseCategoricalCrossentropy(from_logits=True), \n",
    "               metrics=['accuracy'])"
   ]
  },
  {
   "cell_type": "code",
   "execution_count": 53,
   "id": "7a899e54",
   "metadata": {},
   "outputs": [
    {
     "name": "stdout",
     "output_type": "stream",
     "text": [
      "Model: \"tf_distil_bert_for_sequence_classification_2\"\n",
      "_________________________________________________________________\n",
      " Layer (type)                Output Shape              Param #   \n",
      "=================================================================\n",
      " distilbert (TFDistilBertMa  multiple                  66362880  \n",
      " inLayer)                                                        \n",
      "                                                                 \n",
      " pre_classifier (Dense)      multiple                  590592    \n",
      "                                                                 \n",
      " classifier (Dense)          multiple                  59213     \n",
      "                                                                 \n",
      " dropout_59 (Dropout)        multiple                  0 (unused)\n",
      "                                                                 \n",
      "=================================================================\n",
      "Total params: 67012685 (255.63 MB)\n",
      "Trainable params: 649805 (2.48 MB)\n",
      "Non-trainable params: 66362880 (253.15 MB)\n",
      "_________________________________________________________________\n"
     ]
    }
   ],
   "source": [
    "model.summary()"
   ]
  },
  {
   "cell_type": "code",
   "execution_count": 54,
   "id": "fd4e45c5",
   "metadata": {},
   "outputs": [],
   "source": [
    "early_stopping = tf.keras.callbacks.EarlyStopping(monitor='val_loss', patience=5, min_delta=0.001, restore_best_weights=True)"
   ]
  },
  {
   "cell_type": "code",
   "execution_count": 55,
   "id": "7f918d16",
   "metadata": {},
   "outputs": [
    {
     "name": "stdout",
     "output_type": "stream",
     "text": [
      "Epoch 1/150\n",
      "168/168 [==============================] - 52s 294ms/step - loss: 3.4363 - accuracy: 0.1371 - val_loss: 2.9843 - val_accuracy: 0.1966\n",
      "Epoch 2/150\n",
      "168/168 [==============================] - 48s 284ms/step - loss: 2.9159 - accuracy: 0.2298 - val_loss: 2.6367 - val_accuracy: 0.2870\n",
      "Epoch 3/150\n",
      "168/168 [==============================] - 44s 265ms/step - loss: 2.7095 - accuracy: 0.2720 - val_loss: 2.5208 - val_accuracy: 0.2922\n",
      "Epoch 4/150\n",
      "168/168 [==============================] - 43s 259ms/step - loss: 2.5691 - accuracy: 0.3025 - val_loss: 2.3427 - val_accuracy: 0.3617\n",
      "Epoch 5/150\n",
      "168/168 [==============================] - 46s 272ms/step - loss: 2.4427 - accuracy: 0.3204 - val_loss: 2.3437 - val_accuracy: 0.3513\n",
      "Epoch 6/150\n",
      "168/168 [==============================] - 43s 258ms/step - loss: 2.4338 - accuracy: 0.3262 - val_loss: 2.2822 - val_accuracy: 0.3692\n",
      "Epoch 7/150\n",
      "168/168 [==============================] - 47s 281ms/step - loss: 2.3700 - accuracy: 0.3460 - val_loss: 2.2106 - val_accuracy: 0.3804\n",
      "Epoch 8/150\n",
      "168/168 [==============================] - 49s 291ms/step - loss: 2.3379 - accuracy: 0.3537 - val_loss: 2.1761 - val_accuracy: 0.3909\n",
      "Epoch 9/150\n",
      "168/168 [==============================] - 50s 295ms/step - loss: 2.2688 - accuracy: 0.3634 - val_loss: 2.1371 - val_accuracy: 0.4111\n",
      "Epoch 10/150\n",
      "168/168 [==============================] - 47s 278ms/step - loss: 2.2128 - accuracy: 0.3763 - val_loss: 2.0696 - val_accuracy: 0.4118\n",
      "Epoch 11/150\n",
      "168/168 [==============================] - 46s 275ms/step - loss: 2.2245 - accuracy: 0.3871 - val_loss: 2.1686 - val_accuracy: 0.3999\n",
      "Epoch 12/150\n",
      "168/168 [==============================] - 50s 298ms/step - loss: 2.1853 - accuracy: 0.3914 - val_loss: 2.0537 - val_accuracy: 0.4126\n",
      "Epoch 13/150\n",
      "168/168 [==============================] - 49s 292ms/step - loss: 2.1475 - accuracy: 0.3976 - val_loss: 2.0480 - val_accuracy: 0.4148\n",
      "Epoch 14/150\n",
      "168/168 [==============================] - 49s 293ms/step - loss: 2.1647 - accuracy: 0.3907 - val_loss: 2.0109 - val_accuracy: 0.4499\n",
      "Epoch 15/150\n",
      "168/168 [==============================] - 51s 306ms/step - loss: 2.1478 - accuracy: 0.3963 - val_loss: 1.9588 - val_accuracy: 0.4507\n",
      "Epoch 16/150\n",
      "168/168 [==============================] - 45s 270ms/step - loss: 2.0870 - accuracy: 0.4124 - val_loss: 2.0523 - val_accuracy: 0.4208\n",
      "Epoch 17/150\n",
      "168/168 [==============================] - 44s 261ms/step - loss: 2.0994 - accuracy: 0.4077 - val_loss: 2.0472 - val_accuracy: 0.4327\n",
      "Epoch 18/150\n",
      "168/168 [==============================] - 43s 258ms/step - loss: 2.0649 - accuracy: 0.4195 - val_loss: 1.9792 - val_accuracy: 0.4552\n",
      "Epoch 19/150\n",
      "168/168 [==============================] - 43s 255ms/step - loss: 2.0742 - accuracy: 0.4165 - val_loss: 2.0065 - val_accuracy: 0.4447\n",
      "Epoch 20/150\n",
      "168/168 [==============================] - 43s 255ms/step - loss: 2.0577 - accuracy: 0.4191 - val_loss: 2.0320 - val_accuracy: 0.4297\n",
      "WARNING:tensorflow:Skipping full serialization of Keras layer <keras.src.layers.regularization.dropout.Dropout object at 0x368ceb4c0>, because it is not built.\n"
     ]
    },
    {
     "name": "stderr",
     "output_type": "stream",
     "text": [
      "WARNING:tensorflow:Skipping full serialization of Keras layer <keras.src.layers.regularization.dropout.Dropout object at 0x368ceb4c0>, because it is not built.\n"
     ]
    },
    {
     "name": "stdout",
     "output_type": "stream",
     "text": [
      "WARNING:tensorflow:Skipping full serialization of Keras layer <keras.src.layers.regularization.dropout.Dropout object at 0x36882c7f0>, because it is not built.\n"
     ]
    },
    {
     "name": "stderr",
     "output_type": "stream",
     "text": [
      "WARNING:tensorflow:Skipping full serialization of Keras layer <keras.src.layers.regularization.dropout.Dropout object at 0x36882c7f0>, because it is not built.\n"
     ]
    },
    {
     "name": "stdout",
     "output_type": "stream",
     "text": [
      "WARNING:tensorflow:Skipping full serialization of Keras layer <keras.src.layers.regularization.dropout.Dropout object at 0x3bf93f610>, because it is not built.\n"
     ]
    },
    {
     "name": "stderr",
     "output_type": "stream",
     "text": [
      "WARNING:tensorflow:Skipping full serialization of Keras layer <keras.src.layers.regularization.dropout.Dropout object at 0x3bf93f610>, because it is not built.\n"
     ]
    },
    {
     "name": "stdout",
     "output_type": "stream",
     "text": [
      "WARNING:tensorflow:Skipping full serialization of Keras layer <keras.src.layers.regularization.dropout.Dropout object at 0x368636560>, because it is not built.\n"
     ]
    },
    {
     "name": "stderr",
     "output_type": "stream",
     "text": [
      "WARNING:tensorflow:Skipping full serialization of Keras layer <keras.src.layers.regularization.dropout.Dropout object at 0x368636560>, because it is not built.\n"
     ]
    },
    {
     "name": "stdout",
     "output_type": "stream",
     "text": [
      "WARNING:tensorflow:Skipping full serialization of Keras layer <keras.src.layers.regularization.dropout.Dropout object at 0x368566470>, because it is not built.\n"
     ]
    },
    {
     "name": "stderr",
     "output_type": "stream",
     "text": [
      "WARNING:tensorflow:Skipping full serialization of Keras layer <keras.src.layers.regularization.dropout.Dropout object at 0x368566470>, because it is not built.\n"
     ]
    },
    {
     "name": "stdout",
     "output_type": "stream",
     "text": [
      "WARNING:tensorflow:Skipping full serialization of Keras layer <keras.src.layers.regularization.dropout.Dropout object at 0x36859e8f0>, because it is not built.\n"
     ]
    },
    {
     "name": "stderr",
     "output_type": "stream",
     "text": [
      "WARNING:tensorflow:Skipping full serialization of Keras layer <keras.src.layers.regularization.dropout.Dropout object at 0x36859e8f0>, because it is not built.\n"
     ]
    },
    {
     "name": "stdout",
     "output_type": "stream",
     "text": [
      "INFO:tensorflow:Assets written to: bert_tf/assets\n"
     ]
    },
    {
     "name": "stderr",
     "output_type": "stream",
     "text": [
      "INFO:tensorflow:Assets written to: bert_tf/assets\n"
     ]
    }
   ],
   "source": [
    "history = model.fit(x=X_train, y=y_train, validation_data=(X_test, y_test), epochs=150, batch_size=32, callbacks=[early_stopping])\n",
    "model.save('bert_tf', save_format='tf')"
   ]
  },
  {
   "cell_type": "code",
   "execution_count": 56,
   "id": "68a9a820",
   "metadata": {},
   "outputs": [
    {
     "data": {
      "text/plain": [
       "[<matplotlib.lines.Line2D at 0x353554850>]"
      ]
     },
     "execution_count": 56,
     "metadata": {},
     "output_type": "execute_result"
    },
    {
     "data": {
      "image/png": "[encoded data removed]",
      "text/plain": [
       "<Figure size 640x480 with 1 Axes>"
      ]
     },
     "metadata": {},
     "output_type": "display_data"
    }
   ],
   "source": [
    "plt.plot(history.history['accuracy'], label='accuracy')\n",
    "plt.plot(history.history['val_accuracy'], label='val_accuracy')"
   ]
  },
  {
   "cell_type": "code",
   "execution_count": 70,
   "id": "2dba68ef",
   "metadata": {},
   "outputs": [
    {
     "name": "stdout",
     "output_type": "stream",
     "text": [
      "1/1 [==============================] - 0s 250ms/step\n",
      "1/1 [==============================] - 0s 34ms/step\n",
      "Hindi-Urdu: 0.3353\n",
      "Comparative Literature: 0.3028\n",
      "English: 0.1744\n",
      "German: 0.0563\n",
      "Sanskrit: 0.0544\n",
      "\n",
      "Text: Hindi Literature => Predicted Label: Hindi-Urdu\n"
     ]
    }
   ],
   "source": [
    "predict_text = [\"Hindi Literature\"]\n",
    "\n",
    "predict_seq = tokenizer(predict_text, padding='max_length', max_length=max_length, return_tensors=\"np\")['input_ids']\n",
    "predictions = model.predict(predict_seq)\n",
    "\n",
    "# Print probability diestribution\n",
    "logits = model.predict(predict_seq)\n",
    "probs = tf.nn.softmax(logits.logits, axis=1).numpy()[0]  # Shape: (num_labels,)\n",
    "\n",
    "# Wrap in DataFrame for display\n",
    "pred_series = pd.Series(probs, index=label_encoder.classes_)\n",
    "top_5 = pred_series.sort_values(ascending=False).head(5)\n",
    "for dept, prob in top_5.items():\n",
    "    print(f\"{dept}: {prob:.4f}\")\n",
    "\n",
    "# Get final predicted label\n",
    "predicted_labels = np.argmax(probs)\n",
    "predicted_labels_text = label_encoder.inverse_transform([predicted_labels])\n",
    "print(f\"\\nText: {predict_text[0]} => Predicted Label: {predicted_labels_text[0]}\")"
   ]
  }
 ],
 "metadata": {
  "kernelspec": {
   "display_name": "courseenvfull",
   "language": "python",
   "name": "python3"
  },
  "language_info": {
   "codemirror_mode": {
    "name": "ipython",
    "version": 3
   },
   "file_extension": ".py",
   "mimetype": "text/x-python",
   "name": "python",
   "nbconvert_exporter": "python",
   "pygments_lexer": "ipython3",
   "version": "3.10.9"
  }
 },
 "nbformat": 4,
 "nbformat_minor": 5
}
