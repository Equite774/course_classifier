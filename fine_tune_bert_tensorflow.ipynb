{
 "cells": [
  {
   "cell_type": "code",
   "execution_count": 98,
   "id": "8f6e3185",
   "metadata": {},
   "outputs": [],
   "source": [
    "import numpy as np\n",
    "import pandas as pd\n",
    "import matplotlib.pyplot as plt\n",
    "import tensorflow as tf\n",
    "import keras\n",
    "from keras.preprocessing.text import Tokenizer\n",
    "from tensorflow.keras.preprocessing.sequence import pad_sequences\n",
    "import sklearn\n",
    "from sklearn.preprocessing import LabelEncoder\n",
    "from sklearn.model_selection import train_test_split\n",
    "from transformers import AutoTokenizer, TFAutoModelForSequenceClassification"
   ]
  },
  {
   "cell_type": "code",
   "execution_count": 99,
   "id": "0ff6ef73",
   "metadata": {},
   "outputs": [
    {
     "data": {
      "text/html": [
       "<div>\n",
       "<style scoped>\n",
       "    .dataframe tbody tr th:only-of-type {\n",
       "        vertical-align: middle;\n",
       "    }\n",
       "\n",
       "    .dataframe tbody tr th {\n",
       "        vertical-align: top;\n",
       "    }\n",
       "\n",
       "    .dataframe thead th {\n",
       "        text-align: right;\n",
       "    }\n",
       "</style>\n",
       "<table border=\"1\" class=\"dataframe\">\n",
       "  <thead>\n",
       "    <tr style=\"text-align: right;\">\n",
       "      <th></th>\n",
       "      <th>Course</th>\n",
       "      <th>ID</th>\n",
       "      <th>Department</th>\n",
       "    </tr>\n",
       "  </thead>\n",
       "  <tbody>\n",
       "    <tr>\n",
       "      <th>0</th>\n",
       "      <td>Principles of Nutrition</td>\n",
       "      <td>BIOL</td>\n",
       "      <td>Biology</td>\n",
       "    </tr>\n",
       "    <tr>\n",
       "      <th>1</th>\n",
       "      <td>Nutrition for Fitness and Physical Activity</td>\n",
       "      <td>BIOL</td>\n",
       "      <td>Biology</td>\n",
       "    </tr>\n",
       "    <tr>\n",
       "      <th>2</th>\n",
       "      <td>Introduction to Human Physiology</td>\n",
       "      <td>BIOL</td>\n",
       "      <td>Biology</td>\n",
       "    </tr>\n",
       "    <tr>\n",
       "      <th>3</th>\n",
       "      <td>Biotechnology Management</td>\n",
       "      <td>BIOL</td>\n",
       "      <td>Biology</td>\n",
       "    </tr>\n",
       "    <tr>\n",
       "      <th>4</th>\n",
       "      <td>Living Biology at Brown and Beyond</td>\n",
       "      <td>BIOL</td>\n",
       "      <td>Biology</td>\n",
       "    </tr>\n",
       "  </tbody>\n",
       "</table>\n",
       "</div>"
      ],
      "text/plain": [
       "                                        Course    ID Department\n",
       "0                      Principles of Nutrition  BIOL    Biology\n",
       "1  Nutrition for Fitness and Physical Activity  BIOL    Biology\n",
       "2             Introduction to Human Physiology  BIOL    Biology\n",
       "3                     Biotechnology Management  BIOL    Biology\n",
       "4           Living Biology at Brown and Beyond  BIOL    Biology"
      ]
     },
     "execution_count": 99,
     "metadata": {},
     "output_type": "execute_result"
    }
   ],
   "source": [
    "df = pd.read_csv('courses.csv')\n",
    "df.head()"
   ]
  },
  {
   "cell_type": "code",
   "execution_count": 100,
   "id": "a38beb03",
   "metadata": {},
   "outputs": [],
   "source": [
    "department_mapping = {\n",
    "    'History': 'History & Social Sciences',\n",
    "    'Political Science': 'History & Social Sciences',\n",
    "    'International and Public Affairs': 'History & Social Sciences',\n",
    "    'Sociology': 'History & Social Sciences',\n",
    "    'Anthropology': 'History & Social Sciences',\n",
    "    'Africana Studies': 'History & Social Sciences',\n",
    "    'Public Health': 'History & Social Sciences',\n",
    "    'Economics': 'History & Social Sciences',\n",
    "    'Education': 'History & Social Sciences',\n",
    "    'Gender and Sexuality Studies': 'History & Social Sciences',\n",
    "    'Urban Studies': 'History & Social Sciences',\n",
    "\n",
    "    'Mathematics': 'STEM',\n",
    "    'Applied Mathematics': 'STEM',\n",
    "    'Physics': 'STEM',\n",
    "    'Engineering': 'STEM',\n",
    "    'Computer Science': 'STEM',\n",
    "    'Biology': 'STEM',\n",
    "    'Neuroscience': 'STEM',\n",
    "    'Chemistry': 'STEM',\n",
    "    'Geology': 'STEM',\n",
    "    'Data Science': 'STEM',\n",
    "    'Environmental Studies': 'STEM',\n",
    "\n",
    "    'Modern Culture and Media': 'Arts & Media',\n",
    "    'Music': 'Arts & Media',\n",
    "    'Theater and Performance': 'Arts & Media',\n",
    "    'Visual Art': 'Arts & Media',\n",
    "    'Art History': 'Arts & Media',\n",
    "    'Arts Institute': 'Arts & Media',\n",
    "    'English': 'Arts & Media',\n",
    "    'Comparative Literature': 'Arts & Media',\n",
    "\n",
    "    'Philosophy': 'Philosophy & Religion',\n",
    "    'Religious Studies': 'Philosophy & Religion',\n",
    "    'Contemplative Studies': 'Philosophy & Religion',\n",
    "    'Judaic Studies': 'Philosophy & Religion',\n",
    "\n",
    "    'Latin': 'Languages',\n",
    "    'Ancient Greek': 'Languages',\n",
    "    'German': 'Languages',\n",
    "    'Russian': 'Languages',\n",
    "    'Italian': 'Languages',\n",
    "    'Portuguese and Brazilian Studies': 'Languages',\n",
    "    'East Asian Studies': 'Languages',\n",
    "    'Chinese': 'Languages',\n",
    "    'Japanese': 'Languages',\n",
    "    'Korean': 'Languages',\n",
    "    'Hindi-Urdu': 'Languages',\n",
    "    'Arabic': 'Languages',\n",
    "    'Sanskrit': 'Languages',\n",
    "    'Persian': 'Languages',\n",
    "    'Swedish': 'Languages',\n",
    "    'Catalan': 'Languages',\n",
    "    'Vietnamese': 'Languages',\n",
    "    'Polish': 'Languages',\n",
    "    'Hebrew': 'Languages',\n",
    "    'Turkish': 'Languages',\n",
    "    'Yoruba': 'Languages',\n",
    "    'Czech': 'Languages',\n",
    "    'Language Studies': 'Languages',\n",
    "    'Native American Studies': 'Languages',\n",
    "\n",
    "    'Egyptology': 'Ancient Studies',\n",
    "    'Assyriology': 'Ancient Studies',\n",
    "    'Classics': 'Ancient Studies',\n",
    "    'Archaeology': 'Ancient Studies',\n",
    "    'Early Cultures': 'Ancient Studies',\n",
    "    'Medeival Studies': 'Ancient Studies',\n",
    "\n",
    "    'Other': 'Other'\n",
    "}"
   ]
  },
  {
   "cell_type": "code",
   "execution_count": 101,
   "id": "9e792c1b",
   "metadata": {},
   "outputs": [],
   "source": [
    "df['Department_Grouped'] = df['Department'].map(department_mapping).fillna('Other')"
   ]
  },
  {
   "cell_type": "code",
   "execution_count": 102,
   "id": "78d81c09",
   "metadata": {},
   "outputs": [],
   "source": [
    "text = df['Course']\n",
    "labels_text = df['Department_Grouped']"
   ]
  },
  {
   "cell_type": "code",
   "execution_count": 103,
   "id": "fe05ecf6",
   "metadata": {},
   "outputs": [
    {
     "name": "stdout",
     "output_type": "stream",
     "text": [
      "(6690, 26)\n"
     ]
    }
   ],
   "source": [
    "text_list = text.tolist()\n",
    "tokenizer = AutoTokenizer.from_pretrained(\"bert-base-uncased\")\n",
    "encoded = tokenizer(text_list, padding=True, return_tensors='np')\n",
    "sequences = encoded['input_ids']\n",
    "print(sequences.shape)\n",
    "max_length = sequences.shape[1]"
   ]
  },
  {
   "cell_type": "code",
   "execution_count": 104,
   "id": "11f9c8ab",
   "metadata": {},
   "outputs": [],
   "source": [
    "label_encoder = LabelEncoder()\n",
    "labels = label_encoder.fit_transform(labels_text)"
   ]
  },
  {
   "cell_type": "code",
   "execution_count": 105,
   "id": "dd344977",
   "metadata": {},
   "outputs": [],
   "source": [
    "X_train, X_test, y_train, y_test = train_test_split(sequences, labels, test_size=0.2, random_state=17)"
   ]
  },
  {
   "cell_type": "code",
   "execution_count": 106,
   "id": "6e6a90af",
   "metadata": {},
   "outputs": [
    {
     "name": "stderr",
     "output_type": "stream",
     "text": [
      "Some weights of the PyTorch model were not used when initializing the TF 2.0 model TFDistilBertForSequenceClassification: ['vocab_projector.bias', 'vocab_transform.weight', 'vocab_layer_norm.bias', 'vocab_transform.bias', 'vocab_layer_norm.weight']\n",
      "- This IS expected if you are initializing TFDistilBertForSequenceClassification from a PyTorch model trained on another task or with another architecture (e.g. initializing a TFBertForSequenceClassification model from a BertForPreTraining model).\n",
      "- This IS NOT expected if you are initializing TFDistilBertForSequenceClassification from a PyTorch model that you expect to be exactly identical (e.g. initializing a TFBertForSequenceClassification model from a BertForSequenceClassification model).\n",
      "Some weights or buffers of the TF 2.0 model TFDistilBertForSequenceClassification were not initialized from the PyTorch model and are newly initialized: ['pre_classifier.weight', 'pre_classifier.bias', 'classifier.weight', 'classifier.bias']\n",
      "You should probably TRAIN this model on a down-stream task to be able to use it for predictions and inference.\n"
     ]
    }
   ],
   "source": [
    "model = TFAutoModelForSequenceClassification.from_pretrained(\"distilbert-base-uncased\", num_labels=len(label_encoder.classes_))"
   ]
  },
  {
   "cell_type": "code",
   "execution_count": 107,
   "id": "cb30e5ad",
   "metadata": {},
   "outputs": [],
   "source": [
    "model.distilbert.trainable = False\n",
    "model.compile(optimizer=tf.keras.optimizers.legacy.Adam(learning_rate=5e-5),\n",
    "               loss=tf.keras.losses.SparseCategoricalCrossentropy(from_logits=True), \n",
    "               metrics=['accuracy'])"
   ]
  },
  {
   "cell_type": "code",
   "execution_count": 108,
   "id": "7a899e54",
   "metadata": {},
   "outputs": [
    {
     "name": "stdout",
     "output_type": "stream",
     "text": [
      "Model: \"tf_distil_bert_for_sequence_classification_3\"\n",
      "_________________________________________________________________\n",
      " Layer (type)                Output Shape              Param #   \n",
      "=================================================================\n",
      " distilbert (TFDistilBertMa  multiple                  66362880  \n",
      " inLayer)                                                        \n",
      "                                                                 \n",
      " pre_classifier (Dense)      multiple                  590592    \n",
      "                                                                 \n",
      " classifier (Dense)          multiple                  5383      \n",
      "                                                                 \n",
      " dropout_535 (Dropout)       multiple                  0 (unused)\n",
      "                                                                 \n",
      "=================================================================\n",
      "Total params: 66958855 (255.43 MB)\n",
      "Trainable params: 595975 (2.27 MB)\n",
      "Non-trainable params: 66362880 (253.15 MB)\n",
      "_________________________________________________________________\n"
     ]
    }
   ],
   "source": [
    "model.summary()"
   ]
  },
  {
   "cell_type": "code",
   "execution_count": 109,
   "id": "fd4e45c5",
   "metadata": {},
   "outputs": [],
   "source": [
    "early_stopping = tf.keras.callbacks.EarlyStopping(monitor='val_loss', patience=5, min_delta=0.001, restore_best_weights=True)"
   ]
  },
  {
   "cell_type": "code",
   "execution_count": 110,
   "id": "7f918d16",
   "metadata": {},
   "outputs": [
    {
     "name": "stdout",
     "output_type": "stream",
     "text": [
      "Epoch 1/25\n",
      "168/168 [==============================] - 41s 232ms/step - loss: 1.7501 - accuracy: 0.3498 - val_loss: 1.6463 - val_accuracy: 0.4806\n",
      "Epoch 2/25\n",
      "168/168 [==============================] - 38s 225ms/step - loss: 1.6022 - accuracy: 0.4871 - val_loss: 1.5085 - val_accuracy: 0.5075\n",
      "Epoch 3/25\n",
      "168/168 [==============================] - 39s 230ms/step - loss: 1.4727 - accuracy: 0.5107 - val_loss: 1.3876 - val_accuracy: 0.5314\n",
      "Epoch 4/25\n",
      "168/168 [==============================] - 39s 231ms/step - loss: 1.3780 - accuracy: 0.5286 - val_loss: 1.3079 - val_accuracy: 0.5471\n",
      "Epoch 5/25\n",
      "168/168 [==============================] - 39s 230ms/step - loss: 1.3182 - accuracy: 0.5435 - val_loss: 1.2506 - val_accuracy: 0.5575\n",
      "Epoch 6/25\n",
      "168/168 [==============================] - 38s 224ms/step - loss: 1.2702 - accuracy: 0.5516 - val_loss: 1.2137 - val_accuracy: 0.5747\n",
      "Epoch 7/25\n",
      "168/168 [==============================] - 38s 226ms/step - loss: 1.2304 - accuracy: 0.5684 - val_loss: 1.1845 - val_accuracy: 0.5703\n",
      "Epoch 8/25\n",
      "168/168 [==============================] - 37s 223ms/step - loss: 1.2001 - accuracy: 0.5738 - val_loss: 1.1565 - val_accuracy: 0.5942\n",
      "Epoch 9/25\n",
      "168/168 [==============================] - 38s 229ms/step - loss: 1.1732 - accuracy: 0.5910 - val_loss: 1.1322 - val_accuracy: 0.6016\n",
      "Epoch 10/25\n",
      "168/168 [==============================] - 38s 225ms/step - loss: 1.1572 - accuracy: 0.5953 - val_loss: 1.1124 - val_accuracy: 0.6076\n",
      "Epoch 11/25\n",
      "168/168 [==============================] - 38s 227ms/step - loss: 1.1409 - accuracy: 0.5927 - val_loss: 1.0971 - val_accuracy: 0.6121\n",
      "Epoch 12/25\n",
      "168/168 [==============================] - 38s 225ms/step - loss: 1.1235 - accuracy: 0.6069 - val_loss: 1.0875 - val_accuracy: 0.6203\n",
      "Epoch 13/25\n",
      "168/168 [==============================] - 39s 230ms/step - loss: 1.1086 - accuracy: 0.6127 - val_loss: 1.0774 - val_accuracy: 0.6263\n",
      "Epoch 14/25\n",
      "168/168 [==============================] - 37s 222ms/step - loss: 1.1019 - accuracy: 0.6164 - val_loss: 1.0606 - val_accuracy: 0.6256\n",
      "Epoch 15/25\n",
      "168/168 [==============================] - 38s 225ms/step - loss: 1.0948 - accuracy: 0.6125 - val_loss: 1.0557 - val_accuracy: 0.6300\n",
      "Epoch 16/25\n",
      "168/168 [==============================] - 39s 233ms/step - loss: 1.0822 - accuracy: 0.6170 - val_loss: 1.0405 - val_accuracy: 0.6308\n",
      "Epoch 17/25\n",
      "168/168 [==============================] - 38s 229ms/step - loss: 1.0667 - accuracy: 0.6203 - val_loss: 1.0384 - val_accuracy: 0.6353\n",
      "Epoch 18/25\n",
      "168/168 [==============================] - 37s 220ms/step - loss: 1.0557 - accuracy: 0.6317 - val_loss: 1.0225 - val_accuracy: 0.6405\n",
      "Epoch 19/25\n",
      "168/168 [==============================] - 38s 226ms/step - loss: 1.0522 - accuracy: 0.6314 - val_loss: 1.0217 - val_accuracy: 0.6390\n",
      "Epoch 20/25\n",
      "168/168 [==============================] - 38s 225ms/step - loss: 1.0422 - accuracy: 0.6319 - val_loss: 1.0101 - val_accuracy: 0.6472\n",
      "Epoch 21/25\n",
      "168/168 [==============================] - 38s 225ms/step - loss: 1.0308 - accuracy: 0.6375 - val_loss: 1.0010 - val_accuracy: 0.6502\n",
      "Epoch 22/25\n",
      "168/168 [==============================] - 38s 226ms/step - loss: 1.0218 - accuracy: 0.6394 - val_loss: 1.0091 - val_accuracy: 0.6487\n",
      "Epoch 23/25\n",
      "168/168 [==============================] - 45s 265ms/step - loss: 1.0188 - accuracy: 0.6399 - val_loss: 0.9989 - val_accuracy: 0.6450\n",
      "Epoch 24/25\n",
      "168/168 [==============================] - 37s 223ms/step - loss: 1.0146 - accuracy: 0.6424 - val_loss: 0.9814 - val_accuracy: 0.6562\n",
      "Epoch 25/25\n",
      "168/168 [==============================] - 41s 243ms/step - loss: 1.0086 - accuracy: 0.6461 - val_loss: 0.9775 - val_accuracy: 0.6584\n"
     ]
    }
   ],
   "source": [
    "history = model.fit(x=X_train, y=y_train, validation_data=(X_test, y_test), epochs=25, batch_size=32, callbacks=[early_stopping])"
   ]
  },
  {
   "cell_type": "code",
   "execution_count": 111,
   "id": "68a9a820",
   "metadata": {},
   "outputs": [
    {
     "data": {
      "text/plain": [
       "[<matplotlib.lines.Line2D at 0x3817e26e0>]"
      ]
     },
     "execution_count": 111,
     "metadata": {},
     "output_type": "execute_result"
    },
    {
     "data": {
      "image/png": "[encoded data removed]",
      "text/plain": [
       "<Figure size 640x480 with 1 Axes>"
      ]
     },
     "metadata": {},
     "output_type": "display_data"
    }
   ],
   "source": [
    "plt.plot(history.history['accuracy'], label='accuracy')\n",
    "plt.plot(history.history['val_accuracy'], label='val_accuracy')"
   ]
  },
  {
   "cell_type": "code",
   "execution_count": null,
   "id": "2dba68ef",
   "metadata": {},
   "outputs": [
    {
     "name": "stdout",
     "output_type": "stream",
     "text": [
      "1/1 [==============================] - 0s 134ms/step\n"
     ]
    },
    {
     "ename": "TypeError",
     "evalue": "DataFrame.sort_values() missing 1 required positional argument: 'by'",
     "output_type": "error",
     "traceback": [
      "\u001b[0;31m---------------------------------------------------------------------------\u001b[0m",
      "\u001b[0;31mTypeError\u001b[0m                                 Traceback (most recent call last)",
      "Cell \u001b[0;32mIn[115], line 9\u001b[0m\n\u001b[1;32m      7\u001b[0m predictions \u001b[38;5;241m=\u001b[39m pd\u001b[38;5;241m.\u001b[39mDataFrame(predictions, columns\u001b[38;5;241m=\u001b[39mlabel_encoder\u001b[38;5;241m.\u001b[39mclasses_)\n\u001b[1;32m      8\u001b[0m pred_series \u001b[38;5;241m=\u001b[39m predictions\n\u001b[0;32m----> 9\u001b[0m top_5 \u001b[38;5;241m=\u001b[39m \u001b[43mpred_series\u001b[49m\u001b[38;5;241;43m.\u001b[39;49m\u001b[43msort_values\u001b[49m\u001b[43m(\u001b[49m\u001b[43mascending\u001b[49m\u001b[38;5;241;43m=\u001b[39;49m\u001b[38;5;28;43;01mFalse\u001b[39;49;00m\u001b[43m)\u001b[49m\u001b[38;5;241m.\u001b[39mhead(\u001b[38;5;241m5\u001b[39m)\n\u001b[1;32m     10\u001b[0m \u001b[38;5;28mprint\u001b[39m(\u001b[38;5;124m\"\u001b[39m\u001b[38;5;124mTop 5 Predicted Departments:\u001b[39m\u001b[38;5;124m\"\u001b[39m)\n\u001b[1;32m     11\u001b[0m \u001b[38;5;28;01mfor\u001b[39;00m dept, prob \u001b[38;5;129;01min\u001b[39;00m top_5\u001b[38;5;241m.\u001b[39mitems():\n",
      "\u001b[0;31mTypeError\u001b[0m: DataFrame.sort_values() missing 1 required positional argument: 'by'"
     ]
    }
   ],
   "source": [
    "predict_text = [\"Computational Statistics\"]\n",
    "\n",
    "predict_seq = tokenizer(predict_text, padding='max_length', max_length=max_length, return_tensors=\"np\")['input_ids']\n",
    "predictions = model.predict(predict_seq)\n",
    "\n",
    "# Print probability diestribution\n",
    "predictions = pd.DataFrame(predictions, columns=label_encoder.classes_)\n",
    "pred_series = predictions\n",
    "print(predictions)\n",
    "top_5 = pred_series.sort_values(ascending=False).head(5)\n",
    "print(\"Top 5 Predicted Departments:\")\n",
    "for dept, prob in top_5.items():\n",
    "    print(f\"{dept}: {prob:.4f}\")\n",
    "\n",
    "predicted_labels = np.argmax(predictions, axis=1)\n",
    "predicted_labels_text = label_encoder.inverse_transform(predicted_labels)\n",
    "for text, label in zip(predict_text, predicted_labels_text):\n",
    "    print(f\"Text: {text} => Predicted Label: {label}\")"
   ]
  }
 ],
 "metadata": {
  "kernelspec": {
   "display_name": "courseenvfull",
   "language": "python",
   "name": "python3"
  },
  "language_info": {
   "codemirror_mode": {
    "name": "ipython",
    "version": 3
   },
   "file_extension": ".py",
   "mimetype": "text/x-python",
   "name": "python",
   "nbconvert_exporter": "python",
   "pygments_lexer": "ipython3",
   "version": "3.10.9"
  }
 },
 "nbformat": 4,
 "nbformat_minor": 5
}
