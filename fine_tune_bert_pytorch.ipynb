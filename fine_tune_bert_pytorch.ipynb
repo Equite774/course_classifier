{
 "cells": [
  {
   "cell_type": "code",
   "execution_count": 23,
   "id": "9021ecf0",
   "metadata": {},
   "outputs": [],
   "source": [
    "import numpy as np\n",
    "import pandas as pd\n",
    "import matplotlib.pyplot as plt\n",
    "import torch\n",
    "import torchtext\n",
    "from torchtext.data import get_tokenizer\n",
    "import spacy\n",
    "from torch.nn.utils.rnn import pad_sequence\n",
    "from collections import Counter\n",
    "from torchtext.vocab import vocab as build_vocab\n",
    "from torch.utils.data import DataLoader, TensorDataset\n",
    "import sklearn\n",
    "from sklearn.preprocessing import LabelEncoder\n",
    "from sklearn.model_selection import train_test_split\n",
    "from transformers import AutoTokenizer, AutoModelForSequenceClassification"
   ]
  },
  {
   "cell_type": "code",
   "execution_count": 24,
   "id": "254d1baf",
   "metadata": {},
   "outputs": [
    {
     "data": {
      "text/html": [
       "<div>\n",
       "<style scoped>\n",
       "    .dataframe tbody tr th:only-of-type {\n",
       "        vertical-align: middle;\n",
       "    }\n",
       "\n",
       "    .dataframe tbody tr th {\n",
       "        vertical-align: top;\n",
       "    }\n",
       "\n",
       "    .dataframe thead th {\n",
       "        text-align: right;\n",
       "    }\n",
       "</style>\n",
       "<table border=\"1\" class=\"dataframe\">\n",
       "  <thead>\n",
       "    <tr style=\"text-align: right;\">\n",
       "      <th></th>\n",
       "      <th>Course</th>\n",
       "      <th>ID</th>\n",
       "      <th>Department</th>\n",
       "    </tr>\n",
       "  </thead>\n",
       "  <tbody>\n",
       "    <tr>\n",
       "      <th>0</th>\n",
       "      <td>Principles of Nutrition</td>\n",
       "      <td>BIOL</td>\n",
       "      <td>Biology</td>\n",
       "    </tr>\n",
       "    <tr>\n",
       "      <th>1</th>\n",
       "      <td>Nutrition for Fitness and Physical Activity</td>\n",
       "      <td>BIOL</td>\n",
       "      <td>Biology</td>\n",
       "    </tr>\n",
       "    <tr>\n",
       "      <th>2</th>\n",
       "      <td>Introduction to Human Physiology</td>\n",
       "      <td>BIOL</td>\n",
       "      <td>Biology</td>\n",
       "    </tr>\n",
       "    <tr>\n",
       "      <th>3</th>\n",
       "      <td>Biotechnology Management</td>\n",
       "      <td>BIOL</td>\n",
       "      <td>Biology</td>\n",
       "    </tr>\n",
       "    <tr>\n",
       "      <th>4</th>\n",
       "      <td>Living Biology at Brown and Beyond</td>\n",
       "      <td>BIOL</td>\n",
       "      <td>Biology</td>\n",
       "    </tr>\n",
       "  </tbody>\n",
       "</table>\n",
       "</div>"
      ],
      "text/plain": [
       "                                        Course    ID Department\n",
       "0                      Principles of Nutrition  BIOL    Biology\n",
       "1  Nutrition for Fitness and Physical Activity  BIOL    Biology\n",
       "2             Introduction to Human Physiology  BIOL    Biology\n",
       "3                     Biotechnology Management  BIOL    Biology\n",
       "4           Living Biology at Brown and Beyond  BIOL    Biology"
      ]
     },
     "execution_count": 24,
     "metadata": {},
     "output_type": "execute_result"
    }
   ],
   "source": [
    "df = pd.read_csv('courses.csv')\n",
    "df.head()"
   ]
  },
  {
   "cell_type": "code",
   "execution_count": 25,
   "id": "e09687a9",
   "metadata": {},
   "outputs": [],
   "source": [
    "text = df['Course']\n",
    "labels_text = df['Department']"
   ]
  },
  {
   "cell_type": "code",
   "execution_count": 26,
   "id": "f2068249",
   "metadata": {},
   "outputs": [
    {
     "name": "stdout",
     "output_type": "stream",
     "text": [
      "(6690, 26)\n"
     ]
    }
   ],
   "source": [
    "text_list = text.tolist()\n",
    "tokenizer = AutoTokenizer.from_pretrained(\"bert-base-uncased\")\n",
    "encoded = tokenizer(text_list, padding=True, return_tensors='np')\n",
    "sequences = encoded['input_ids']\n",
    "print(sequences.shape)\n",
    "max_length = sequences.shape[1]"
   ]
  },
  {
   "cell_type": "code",
   "execution_count": 27,
   "id": "fd50c75f",
   "metadata": {},
   "outputs": [],
   "source": [
    "label_encoder = LabelEncoder()\n",
    "labels_encoded = label_encoder.fit_transform(labels_text)\n",
    "output_dim = len(label_encoder.classes_)"
   ]
  },
  {
   "cell_type": "code",
   "execution_count": 28,
   "id": "06832092",
   "metadata": {},
   "outputs": [],
   "source": [
    "X_train, X_test, y_train, y_test = train_test_split(sequences, labels_encoded, test_size=0.2, random_state=17)\n",
    "train_data = TensorDataset(torch.tensor(X_train), torch.tensor(y_train))\n",
    "test_data = TensorDataset(torch.tensor(X_test), torch.tensor(y_test))\n",
    "train_loader = DataLoader(train_data, batch_size=32, shuffle=True)\n",
    "test_loader = DataLoader(test_data, batch_size=32, shuffle=False)"
   ]
  },
  {
   "cell_type": "code",
   "execution_count": 65,
   "id": "aed56019",
   "metadata": {},
   "outputs": [
    {
     "name": "stderr",
     "output_type": "stream",
     "text": [
      "Some weights of DistilBertForSequenceClassification were not initialized from the model checkpoint at distilbert-base-uncased and are newly initialized: ['classifier.bias', 'classifier.weight', 'pre_classifier.bias', 'pre_classifier.weight']\n",
      "You should probably TRAIN this model on a down-stream task to be able to use it for predictions and inference.\n"
     ]
    }
   ],
   "source": [
    "model = AutoModelForSequenceClassification.from_pretrained(\"distilbert-base-uncased\", num_labels=output_dim)"
   ]
  },
  {
   "cell_type": "code",
   "execution_count": 66,
   "id": "6cc46dfe",
   "metadata": {},
   "outputs": [],
   "source": [
    "for param in model.distilbert.parameters():\n",
    "    param.requires_grad = False"
   ]
  },
  {
   "cell_type": "code",
   "execution_count": 67,
   "id": "6f552072",
   "metadata": {},
   "outputs": [],
   "source": [
    "loss_fn = torch.nn.CrossEntropyLoss()\n",
    "optimizer = torch.optim.Adam(model.parameters(), lr=5e-3)"
   ]
  },
  {
   "cell_type": "code",
   "execution_count": 68,
   "id": "440f4083",
   "metadata": {},
   "outputs": [],
   "source": [
    "def train_loop(model, train_loader, val_loader, loss_fn, optimizer, num_epochs=100):\n",
    "    history = {'train_loss': [], 'train_acc': [], 'val_loss': [], 'val_acc': []}\n",
    "\n",
    "    for epoch in range(num_epochs):\n",
    "        model.train()\n",
    "        total_loss, correct, total = 0, 0, 0        \n",
    "\n",
    "        for inputs, targets in train_loader:\n",
    "            \n",
    "            optimizer.zero_grad()\n",
    "            outputs = model(inputs).logits\n",
    "            loss = loss_fn(outputs, targets)\n",
    "            loss.backward()\n",
    "            optimizer.step()\n",
    "\n",
    "            total_loss += loss.item() * targets.size(0)\n",
    "            correct += (outputs.argmax(1) == targets).sum().item()\n",
    "            total += targets.size(0)\n",
    "\n",
    "        train_loss = total_loss / total\n",
    "        train_acc = correct / total\n",
    "        history['train_loss'].append(train_loss)\n",
    "        history['train_acc'].append(train_acc)\n",
    "\n",
    "        # Validation\n",
    "        model.eval()\n",
    "        val_loss, val_correct, val_total = 0, 0, 0\n",
    "        with torch.no_grad():\n",
    "            for inputs, targets in val_loader:\n",
    "                outputs = model(inputs).logits\n",
    "                loss = loss_fn(outputs, targets)\n",
    "\n",
    "                val_loss += loss.item() * targets.size(0)\n",
    "                val_correct += (outputs.argmax(1) == targets).sum().item()\n",
    "                val_total += targets.size(0)\n",
    "\n",
    "        val_loss /= val_total\n",
    "        val_acc = val_correct / val_total\n",
    "        history['val_loss'].append(val_loss)\n",
    "        history['val_acc'].append(val_acc)\n",
    "\n",
    "        print(f\"Epoch {epoch+1}/{num_epochs}: \"\n",
    "              f\"Train Loss: {train_loss:.4f}, Train Acc: {train_acc:.4f} | \"\n",
    "              f\"Val Loss: {val_loss:.4f}, Val Acc: {val_acc:.4f}\")\n",
    "\n",
    "    return history"
   ]
  },
  {
   "cell_type": "code",
   "execution_count": 69,
   "id": "392a13dc",
   "metadata": {},
   "outputs": [
    {
     "name": "stdout",
     "output_type": "stream",
     "text": [
      "Epoch 1/60: Train Loss: 3.4346, Train Acc: 0.1390 | Val Loss: 2.9627, Val Acc: 0.1951\n",
      "Epoch 2/60: Train Loss: 2.9277, Train Acc: 0.2231 | Val Loss: 2.6379, Val Acc: 0.2855\n",
      "Epoch 3/60: Train Loss: 2.7508, Train Acc: 0.2672 | Val Loss: 2.4819, Val Acc: 0.3259\n",
      "Epoch 4/60: Train Loss: 2.5931, Train Acc: 0.2982 | Val Loss: 2.4207, Val Acc: 0.3333\n",
      "Epoch 5/60: Train Loss: 2.5019, Train Acc: 0.3227 | Val Loss: 2.3235, Val Acc: 0.3625\n",
      "Epoch 6/60: Train Loss: 2.4419, Train Acc: 0.3307 | Val Loss: 2.2900, Val Acc: 0.3610\n",
      "Epoch 7/60: Train Loss: 2.3865, Train Acc: 0.3436 | Val Loss: 2.3017, Val Acc: 0.3528\n",
      "Epoch 8/60: Train Loss: 2.3640, Train Acc: 0.3412 | Val Loss: 2.1780, Val Acc: 0.3916\n",
      "Epoch 9/60: Train Loss: 2.3039, Train Acc: 0.3612 | Val Loss: 2.1490, Val Acc: 0.3976\n",
      "Epoch 10/60: Train Loss: 2.2857, Train Acc: 0.3657 | Val Loss: 2.1466, Val Acc: 0.4021\n",
      "Epoch 11/60: Train Loss: 2.2414, Train Acc: 0.3772 | Val Loss: 2.0728, Val Acc: 0.4230\n",
      "Epoch 12/60: Train Loss: 2.2412, Train Acc: 0.3743 | Val Loss: 2.1166, Val Acc: 0.4021\n",
      "Epoch 13/60: Train Loss: 2.2258, Train Acc: 0.3838 | Val Loss: 2.0209, Val Acc: 0.4253\n",
      "Epoch 14/60: Train Loss: 2.1673, Train Acc: 0.3866 | Val Loss: 2.1044, Val Acc: 0.4088\n",
      "Epoch 15/60: Train Loss: 2.1598, Train Acc: 0.3941 | Val Loss: 2.0335, Val Acc: 0.4305\n",
      "Epoch 16/60: Train Loss: 2.1846, Train Acc: 0.3873 | Val Loss: 2.0010, Val Acc: 0.4335\n",
      "Epoch 17/60: Train Loss: 2.1386, Train Acc: 0.3965 | Val Loss: 2.0700, Val Acc: 0.4155\n",
      "Epoch 18/60: Train Loss: 2.1520, Train Acc: 0.4034 | Val Loss: 2.1031, Val Acc: 0.4230\n",
      "Epoch 19/60: Train Loss: 2.1270, Train Acc: 0.3985 | Val Loss: 2.0227, Val Acc: 0.4439\n",
      "Epoch 20/60: Train Loss: 2.1271, Train Acc: 0.3967 | Val Loss: 2.0208, Val Acc: 0.4297\n",
      "Epoch 21/60: Train Loss: 2.1195, Train Acc: 0.4070 | Val Loss: 1.9827, Val Acc: 0.4410\n",
      "Epoch 22/60: Train Loss: 2.0540, Train Acc: 0.4148 | Val Loss: 2.0781, Val Acc: 0.4238\n",
      "Epoch 23/60: Train Loss: 2.0786, Train Acc: 0.4148 | Val Loss: 1.9910, Val Acc: 0.4387\n",
      "Epoch 24/60: Train Loss: 2.0743, Train Acc: 0.4032 | Val Loss: 1.9493, Val Acc: 0.4477\n",
      "Epoch 25/60: Train Loss: 2.0495, Train Acc: 0.4139 | Val Loss: 2.0452, Val Acc: 0.4283\n",
      "Epoch 26/60: Train Loss: 2.0327, Train Acc: 0.4221 | Val Loss: 2.0050, Val Acc: 0.4425\n",
      "Epoch 27/60: Train Loss: 2.0309, Train Acc: 0.4193 | Val Loss: 2.0486, Val Acc: 0.4335\n",
      "Epoch 28/60: Train Loss: 2.0408, Train Acc: 0.4127 | Val Loss: 1.9072, Val Acc: 0.4611\n",
      "Epoch 29/60: Train Loss: 2.0478, Train Acc: 0.4129 | Val Loss: 1.9757, Val Acc: 0.4567\n",
      "Epoch 30/60: Train Loss: 2.0264, Train Acc: 0.4221 | Val Loss: 2.0037, Val Acc: 0.4395\n",
      "Epoch 31/60: Train Loss: 2.0041, Train Acc: 0.4193 | Val Loss: 2.0468, Val Acc: 0.4402\n",
      "Epoch 32/60: Train Loss: 1.9931, Train Acc: 0.4331 | Val Loss: 1.9847, Val Acc: 0.4492\n",
      "Epoch 33/60: Train Loss: 2.0148, Train Acc: 0.4292 | Val Loss: 2.0281, Val Acc: 0.4372\n",
      "Epoch 34/60: Train Loss: 2.0301, Train Acc: 0.4178 | Val Loss: 2.0075, Val Acc: 0.4514\n",
      "Epoch 35/60: Train Loss: 2.0098, Train Acc: 0.4299 | Val Loss: 2.0189, Val Acc: 0.4462\n",
      "Epoch 36/60: Train Loss: 2.0185, Train Acc: 0.4247 | Val Loss: 1.9172, Val Acc: 0.4671\n",
      "Epoch 37/60: Train Loss: 1.9838, Train Acc: 0.4333 | Val Loss: 1.9614, Val Acc: 0.4544\n",
      "Epoch 38/60: Train Loss: 1.9857, Train Acc: 0.4314 | Val Loss: 1.9141, Val Acc: 0.4664\n",
      "Epoch 39/60: Train Loss: 1.9921, Train Acc: 0.4322 | Val Loss: 2.0024, Val Acc: 0.4522\n",
      "Epoch 40/60: Train Loss: 2.0040, Train Acc: 0.4344 | Val Loss: 2.0119, Val Acc: 0.4522\n",
      "Epoch 41/60: Train Loss: 1.9722, Train Acc: 0.4365 | Val Loss: 1.9080, Val Acc: 0.4507\n",
      "Epoch 42/60: Train Loss: 1.9825, Train Acc: 0.4350 | Val Loss: 1.8969, Val Acc: 0.4596\n",
      "Epoch 43/60: Train Loss: 1.9810, Train Acc: 0.4331 | Val Loss: 1.9050, Val Acc: 0.4671\n",
      "Epoch 44/60: Train Loss: 1.9509, Train Acc: 0.4331 | Val Loss: 1.9112, Val Acc: 0.4694\n",
      "Epoch 45/60: Train Loss: 1.9485, Train Acc: 0.4340 | Val Loss: 1.9888, Val Acc: 0.4402\n",
      "Epoch 46/60: Train Loss: 1.9727, Train Acc: 0.4355 | Val Loss: 1.9233, Val Acc: 0.4641\n",
      "Epoch 47/60: Train Loss: 1.9634, Train Acc: 0.4320 | Val Loss: 1.9363, Val Acc: 0.4574\n",
      "Epoch 48/60: Train Loss: 1.9571, Train Acc: 0.4368 | Val Loss: 2.0428, Val Acc: 0.4372\n",
      "Epoch 49/60: Train Loss: 1.9564, Train Acc: 0.4387 | Val Loss: 1.9466, Val Acc: 0.4529\n",
      "Epoch 50/60: Train Loss: 1.9167, Train Acc: 0.4443 | Val Loss: 1.9806, Val Acc: 0.4425\n",
      "Epoch 51/60: Train Loss: 1.9672, Train Acc: 0.4329 | Val Loss: 1.9352, Val Acc: 0.4694\n",
      "Epoch 52/60: Train Loss: 1.9099, Train Acc: 0.4425 | Val Loss: 1.9574, Val Acc: 0.4596\n",
      "Epoch 53/60: Train Loss: 1.9317, Train Acc: 0.4484 | Val Loss: 1.9092, Val Acc: 0.4753\n",
      "Epoch 54/60: Train Loss: 1.9528, Train Acc: 0.4413 | Val Loss: 1.9253, Val Acc: 0.4477\n",
      "Epoch 55/60: Train Loss: 1.9395, Train Acc: 0.4411 | Val Loss: 1.9962, Val Acc: 0.4357\n",
      "Epoch 56/60: Train Loss: 1.9319, Train Acc: 0.4434 | Val Loss: 1.9941, Val Acc: 0.4574\n",
      "Epoch 57/60: Train Loss: 1.9544, Train Acc: 0.4335 | Val Loss: 2.0168, Val Acc: 0.4425\n",
      "Epoch 58/60: Train Loss: 1.9609, Train Acc: 0.4337 | Val Loss: 1.9903, Val Acc: 0.4447\n",
      "Epoch 59/60: Train Loss: 1.9549, Train Acc: 0.4413 | Val Loss: 1.9287, Val Acc: 0.4559\n",
      "Epoch 60/60: Train Loss: 1.9400, Train Acc: 0.4496 | Val Loss: 1.9122, Val Acc: 0.4723\n"
     ]
    }
   ],
   "source": [
    "history = train_loop(model, train_loader, test_loader, loss_fn, optimizer, 60)\n",
    "torch.save(model.state_dict(), \"finetune_bert_torch.pth\")"
   ]
  },
  {
   "cell_type": "code",
   "execution_count": 81,
   "id": "38222738",
   "metadata": {},
   "outputs": [
    {
     "data": {
      "text/plain": [
       "[<matplotlib.lines.Line2D at 0x34a70ee00>]"
      ]
     },
     "execution_count": 81,
     "metadata": {},
     "output_type": "execute_result"
    },
    {
     "data": {
      "image/png": "[encoded data removed]",
      "text/plain": [
       "<Figure size 640x480 with 1 Axes>"
      ]
     },
     "metadata": {},
     "output_type": "display_data"
    }
   ],
   "source": [
    "plt.plot(history['train_acc'], label='accuracy')\n",
    "plt.plot(history['val_acc'], label='val_accuracy')"
   ]
  },
  {
   "cell_type": "code",
   "execution_count": 107,
   "id": "5413c025",
   "metadata": {},
   "outputs": [
    {
     "name": "stdout",
     "output_type": "stream",
     "text": [
      "Top 5 predicted departments for 'Imperial Republicanism in Antiquity':\n",
      "1. Classics: 53.67%\n",
      "2. History: 39.73%\n",
      "3. Political Science: 2.66%\n",
      "4. Philosophy: 1.68%\n",
      "5. Archaeology: 0.68%\n"
     ]
    }
   ],
   "source": [
    "predict_text = \"Imperial Republicanism in Antiquity\"\n",
    "tokens = tokenizer(predict_text, return_tensors=\"pt\")\n",
    "sequence = tokens['input_ids']\n",
    "with torch.no_grad():\n",
    "    model.eval()\n",
    "    output = model(sequence)\n",
    "    logits = output.logits\n",
    "    probabilities = torch.nn.functional.softmax(logits, dim=1)\n",
    "\n",
    "    top_probs, top_indices = torch.topk(probabilities, k=5)\n",
    "    top_probs = top_probs.squeeze().tolist()\n",
    "    top_indices = top_indices.squeeze().tolist()\n",
    "\n",
    "    print(f\"Top 5 predicted departments for '{predict_text}':\")\n",
    "    for i, (prob, idx) in enumerate(zip(top_probs, top_indices)):\n",
    "        department = label_encoder.inverse_transform([idx])[0]\n",
    "        print(f\"{i+1}. {department}: {prob*100:.2f}%\")"
   ]
  }
 ],
 "metadata": {
  "kernelspec": {
   "display_name": "courseenvfull",
   "language": "python",
   "name": "python3"
  },
  "language_info": {
   "codemirror_mode": {
    "name": "ipython",
    "version": 3
   },
   "file_extension": ".py",
   "mimetype": "text/x-python",
   "name": "python",
   "nbconvert_exporter": "python",
   "pygments_lexer": "ipython3",
   "version": "3.10.9"
  }
 },
 "nbformat": 4,
 "nbformat_minor": 5
}
