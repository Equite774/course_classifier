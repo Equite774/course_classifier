{
 "cells": [
  {
   "cell_type": "code",
   "execution_count": 23,
   "id": "9021ecf0",
   "metadata": {},
   "outputs": [],
   "source": [
    "import numpy as np\n",
    "import pandas as pd\n",
    "import matplotlib.pyplot as plt\n",
    "import torch\n",
    "import torchtext\n",
    "from torchtext.data import get_tokenizer\n",
    "import spacy\n",
    "from torch.nn.utils.rnn import pad_sequence\n",
    "from collections import Counter\n",
    "from torchtext.vocab import vocab as build_vocab\n",
    "from torch.utils.data import DataLoader, TensorDataset\n",
    "import sklearn\n",
    "from sklearn.preprocessing import LabelEncoder\n",
    "from sklearn.model_selection import train_test_split\n",
    "from transformers import AutoTokenizer, AutoModelForSequenceClassification"
   ]
  },
  {
   "cell_type": "code",
   "execution_count": 24,
   "id": "254d1baf",
   "metadata": {},
   "outputs": [
    {
     "data": {
      "text/html": [
       "<div>\n",
       "<style scoped>\n",
       "    .dataframe tbody tr th:only-of-type {\n",
       "        vertical-align: middle;\n",
       "    }\n",
       "\n",
       "    .dataframe tbody tr th {\n",
       "        vertical-align: top;\n",
       "    }\n",
       "\n",
       "    .dataframe thead th {\n",
       "        text-align: right;\n",
       "    }\n",
       "</style>\n",
       "<table border=\"1\" class=\"dataframe\">\n",
       "  <thead>\n",
       "    <tr style=\"text-align: right;\">\n",
       "      <th></th>\n",
       "      <th>Course</th>\n",
       "      <th>ID</th>\n",
       "      <th>Department</th>\n",
       "    </tr>\n",
       "  </thead>\n",
       "  <tbody>\n",
       "    <tr>\n",
       "      <th>0</th>\n",
       "      <td>Principles of Nutrition</td>\n",
       "      <td>BIOL</td>\n",
       "      <td>Biology</td>\n",
       "    </tr>\n",
       "    <tr>\n",
       "      <th>1</th>\n",
       "      <td>Nutrition for Fitness and Physical Activity</td>\n",
       "      <td>BIOL</td>\n",
       "      <td>Biology</td>\n",
       "    </tr>\n",
       "    <tr>\n",
       "      <th>2</th>\n",
       "      <td>Introduction to Human Physiology</td>\n",
       "      <td>BIOL</td>\n",
       "      <td>Biology</td>\n",
       "    </tr>\n",
       "    <tr>\n",
       "      <th>3</th>\n",
       "      <td>Biotechnology Management</td>\n",
       "      <td>BIOL</td>\n",
       "      <td>Biology</td>\n",
       "    </tr>\n",
       "    <tr>\n",
       "      <th>4</th>\n",
       "      <td>Living Biology at Brown and Beyond</td>\n",
       "      <td>BIOL</td>\n",
       "      <td>Biology</td>\n",
       "    </tr>\n",
       "  </tbody>\n",
       "</table>\n",
       "</div>"
      ],
      "text/plain": [
       "                                        Course    ID Department\n",
       "0                      Principles of Nutrition  BIOL    Biology\n",
       "1  Nutrition for Fitness and Physical Activity  BIOL    Biology\n",
       "2             Introduction to Human Physiology  BIOL    Biology\n",
       "3                     Biotechnology Management  BIOL    Biology\n",
       "4           Living Biology at Brown and Beyond  BIOL    Biology"
      ]
     },
     "execution_count": 24,
     "metadata": {},
     "output_type": "execute_result"
    }
   ],
   "source": [
    "df = pd.read_csv('courses.csv')\n",
    "df.head()"
   ]
  },
  {
   "cell_type": "code",
   "execution_count": 25,
   "id": "e09687a9",
   "metadata": {},
   "outputs": [],
   "source": [
    "text = df['Course']\n",
    "labels_text = df['Department']"
   ]
  },
  {
   "cell_type": "code",
   "execution_count": 26,
   "id": "f2068249",
   "metadata": {},
   "outputs": [
    {
     "name": "stdout",
     "output_type": "stream",
     "text": [
      "(6690, 26)\n"
     ]
    }
   ],
   "source": [
    "text_list = text.tolist()\n",
    "tokenizer = AutoTokenizer.from_pretrained(\"bert-base-uncased\")\n",
    "encoded = tokenizer(text_list, padding=True, return_tensors='np')\n",
    "sequences = encoded['input_ids']\n",
    "print(sequences.shape)\n",
    "max_length = sequences.shape[1]"
   ]
  },
  {
   "cell_type": "code",
   "execution_count": 27,
   "id": "fd50c75f",
   "metadata": {},
   "outputs": [],
   "source": [
    "label_encoder = LabelEncoder()\n",
    "labels_encoded = label_encoder.fit_transform(labels_text)\n",
    "output_dim = len(label_encoder.classes_)"
   ]
  },
  {
   "cell_type": "code",
   "execution_count": 28,
   "id": "06832092",
   "metadata": {},
   "outputs": [],
   "source": [
    "X_train, X_test, y_train, y_test = train_test_split(sequences, labels_encoded, test_size=0.2, random_state=17)\n",
    "train_data = TensorDataset(torch.tensor(X_train), torch.tensor(y_train))\n",
    "test_data = TensorDataset(torch.tensor(X_test), torch.tensor(y_test))\n",
    "train_loader = DataLoader(train_data, batch_size=32, shuffle=True)\n",
    "test_loader = DataLoader(test_data, batch_size=32, shuffle=False)"
   ]
  },
  {
   "cell_type": "code",
   "execution_count": 49,
   "id": "aed56019",
   "metadata": {},
   "outputs": [
    {
     "name": "stderr",
     "output_type": "stream",
     "text": [
      "Some weights of DistilBertForSequenceClassification were not initialized from the model checkpoint at distilbert-base-uncased and are newly initialized: ['classifier.bias', 'classifier.weight', 'pre_classifier.bias', 'pre_classifier.weight']\n",
      "You should probably TRAIN this model on a down-stream task to be able to use it for predictions and inference.\n"
     ]
    }
   ],
   "source": [
    "model = AutoModelForSequenceClassification.from_pretrained(\"distilbert-base-uncased\", num_labels=output_dim)"
   ]
  },
  {
   "cell_type": "code",
   "execution_count": 50,
   "id": "6cc46dfe",
   "metadata": {},
   "outputs": [],
   "source": [
    "for param in model.distilbert.parameters():\n",
    "    param.requires_grad = False"
   ]
  },
  {
   "cell_type": "code",
   "execution_count": 51,
   "id": "6f552072",
   "metadata": {},
   "outputs": [],
   "source": [
    "loss_fn = torch.nn.CrossEntropyLoss()\n",
    "optimizer = torch.optim.Adam(model.parameters(), lr=5e-3)"
   ]
  },
  {
   "cell_type": "code",
   "execution_count": 52,
   "id": "440f4083",
   "metadata": {},
   "outputs": [],
   "source": [
    "def train_loop(model, train_loader, val_loader, loss_fn, optimizer, num_epochs=100):\n",
    "    history = {'train_loss': [], 'train_acc': [], 'val_loss': [], 'val_acc': []}\n",
    "\n",
    "    for epoch in range(num_epochs):\n",
    "        model.train()\n",
    "        total_loss, correct, total = 0, 0, 0        \n",
    "\n",
    "        for inputs, targets in train_loader:\n",
    "            \n",
    "            optimizer.zero_grad()\n",
    "            outputs = model(inputs).logits\n",
    "            loss = loss_fn(outputs, targets)\n",
    "            loss.backward()\n",
    "            optimizer.step()\n",
    "\n",
    "            total_loss += loss.item() * targets.size(0)\n",
    "            correct += (outputs.argmax(1) == targets).sum().item()\n",
    "            total += targets.size(0)\n",
    "\n",
    "        train_loss = total_loss / total\n",
    "        train_acc = correct / total\n",
    "        history['train_loss'].append(train_loss)\n",
    "        history['train_acc'].append(train_acc)\n",
    "\n",
    "        # Validation\n",
    "        model.eval()\n",
    "        val_loss, val_correct, val_total = 0, 0, 0\n",
    "        with torch.no_grad():\n",
    "            for inputs, targets in val_loader:\n",
    "                outputs = model(inputs).logits\n",
    "                loss = loss_fn(outputs, targets)\n",
    "\n",
    "                val_loss += loss.item() * targets.size(0)\n",
    "                val_correct += (outputs.argmax(1) == targets).sum().item()\n",
    "                val_total += targets.size(0)\n",
    "\n",
    "        val_loss /= val_total\n",
    "        val_acc = val_correct / val_total\n",
    "        history['val_loss'].append(val_loss)\n",
    "        history['val_acc'].append(val_acc)\n",
    "\n",
    "        print(f\"Epoch {epoch+1}/{num_epochs}: \"\n",
    "              f\"Train Loss: {train_loss:.4f}, Train Acc: {train_acc:.4f} | \"\n",
    "              f\"Val Loss: {val_loss:.4f}, Val Acc: {val_acc:.4f}\")\n",
    "\n",
    "    return history"
   ]
  },
  {
   "cell_type": "code",
   "execution_count": 53,
   "id": "392a13dc",
   "metadata": {},
   "outputs": [
    {
     "name": "stdout",
     "output_type": "stream",
     "text": [
      "Epoch 1/100: Train Loss: 3.4866, Train Acc: 0.1388 | Val Loss: 2.9684, Val Acc: 0.2025\n",
      "Epoch 2/100: Train Loss: 2.9491, Train Acc: 0.2167 | Val Loss: 2.7376, Val Acc: 0.2601\n",
      "Epoch 3/100: Train Loss: 2.7096, Train Acc: 0.2780 | Val Loss: 2.5234, Val Acc: 0.3012\n",
      "Epoch 4/100: Train Loss: 2.5944, Train Acc: 0.2932 | Val Loss: 2.3674, Val Acc: 0.3363\n",
      "Epoch 5/100: Train Loss: 2.5186, Train Acc: 0.3154 | Val Loss: 2.3623, Val Acc: 0.3580\n",
      "Epoch 6/100: Train Loss: 2.4363, Train Acc: 0.3350 | Val Loss: 2.2638, Val Acc: 0.3752\n",
      "Epoch 7/100: Train Loss: 2.3754, Train Acc: 0.3416 | Val Loss: 2.2156, Val Acc: 0.3774\n",
      "Epoch 8/100: Train Loss: 2.3394, Train Acc: 0.3472 | Val Loss: 2.1539, Val Acc: 0.3954\n",
      "Epoch 9/100: Train Loss: 2.2700, Train Acc: 0.3602 | Val Loss: 2.1749, Val Acc: 0.3744\n",
      "Epoch 10/100: Train Loss: 2.2754, Train Acc: 0.3572 | Val Loss: 2.1120, Val Acc: 0.4081\n",
      "Epoch 11/100: Train Loss: 2.2366, Train Acc: 0.3780 | Val Loss: 2.0942, Val Acc: 0.4073\n",
      "Epoch 12/100: Train Loss: 2.2313, Train Acc: 0.3713 | Val Loss: 2.1410, Val Acc: 0.3886\n",
      "Epoch 13/100: Train Loss: 2.2074, Train Acc: 0.3786 | Val Loss: 2.0376, Val Acc: 0.4260\n",
      "Epoch 14/100: Train Loss: 2.1574, Train Acc: 0.3980 | Val Loss: 2.1217, Val Acc: 0.4066\n",
      "Epoch 15/100: Train Loss: 2.1546, Train Acc: 0.3931 | Val Loss: 2.1388, Val Acc: 0.4126\n",
      "Epoch 16/100: Train Loss: 2.1459, Train Acc: 0.3952 | Val Loss: 2.0286, Val Acc: 0.4312\n",
      "Epoch 17/100: Train Loss: 2.1161, Train Acc: 0.4023 | Val Loss: 2.1115, Val Acc: 0.4178\n",
      "Epoch 18/100: Train Loss: 2.1155, Train Acc: 0.4051 | Val Loss: 2.0739, Val Acc: 0.4312\n",
      "Epoch 19/100: Train Loss: 2.1388, Train Acc: 0.4002 | Val Loss: 2.0414, Val Acc: 0.4223\n",
      "Epoch 20/100: Train Loss: 2.1031, Train Acc: 0.4070 | Val Loss: 2.0101, Val Acc: 0.4522\n",
      "Epoch 21/100: Train Loss: 2.0667, Train Acc: 0.4182 | Val Loss: 2.0095, Val Acc: 0.4387\n",
      "Epoch 22/100: Train Loss: 2.0932, Train Acc: 0.4038 | Val Loss: 2.0073, Val Acc: 0.4462\n",
      "Epoch 23/100: Train Loss: 2.0769, Train Acc: 0.4170 | Val Loss: 2.0350, Val Acc: 0.4380\n",
      "Epoch 24/100: Train Loss: 2.0803, Train Acc: 0.4157 | Val Loss: 2.0301, Val Acc: 0.4522\n",
      "Epoch 25/100: Train Loss: 2.0762, Train Acc: 0.4226 | Val Loss: 2.0360, Val Acc: 0.4462\n",
      "Epoch 26/100: Train Loss: 2.0495, Train Acc: 0.4234 | Val Loss: 2.0817, Val Acc: 0.4312\n",
      "Epoch 27/100: Train Loss: 2.0229, Train Acc: 0.4234 | Val Loss: 1.9866, Val Acc: 0.4484\n",
      "Epoch 28/100: Train Loss: 2.0125, Train Acc: 0.4327 | Val Loss: 2.0030, Val Acc: 0.4387\n",
      "Epoch 29/100: Train Loss: 2.0173, Train Acc: 0.4251 | Val Loss: 2.0586, Val Acc: 0.4402\n",
      "Epoch 30/100: Train Loss: 2.0320, Train Acc: 0.4299 | Val Loss: 2.0394, Val Acc: 0.4447\n",
      "Epoch 31/100: Train Loss: 2.0190, Train Acc: 0.4251 | Val Loss: 2.0341, Val Acc: 0.4320\n",
      "Epoch 32/100: Train Loss: 2.0093, Train Acc: 0.4251 | Val Loss: 2.0584, Val Acc: 0.4327\n",
      "Epoch 33/100: Train Loss: 2.0039, Train Acc: 0.4393 | Val Loss: 1.9857, Val Acc: 0.4522\n",
      "Epoch 34/100: Train Loss: 2.0233, Train Acc: 0.4266 | Val Loss: 1.9624, Val Acc: 0.4656\n",
      "Epoch 35/100: Train Loss: 1.9925, Train Acc: 0.4350 | Val Loss: 1.9826, Val Acc: 0.4544\n",
      "Epoch 36/100: Train Loss: 1.9812, Train Acc: 0.4339 | Val Loss: 2.0067, Val Acc: 0.4529\n",
      "Epoch 37/100: Train Loss: 2.0171, Train Acc: 0.4284 | Val Loss: 1.9402, Val Acc: 0.4589\n",
      "Epoch 38/100: Train Loss: 1.9952, Train Acc: 0.4290 | Val Loss: 2.0607, Val Acc: 0.4320\n",
      "Epoch 39/100: Train Loss: 2.0138, Train Acc: 0.4286 | Val Loss: 2.0204, Val Acc: 0.4469\n",
      "Epoch 40/100: Train Loss: 1.9706, Train Acc: 0.4324 | Val Loss: 2.0301, Val Acc: 0.4402\n",
      "Epoch 41/100: Train Loss: 1.9631, Train Acc: 0.4370 | Val Loss: 1.9677, Val Acc: 0.4559\n",
      "Epoch 42/100: Train Loss: 1.9772, Train Acc: 0.4376 | Val Loss: 2.0026, Val Acc: 0.4454\n",
      "Epoch 43/100: Train Loss: 1.9594, Train Acc: 0.4413 | Val Loss: 1.9770, Val Acc: 0.4746\n",
      "Epoch 44/100: Train Loss: 1.9753, Train Acc: 0.4404 | Val Loss: 1.9598, Val Acc: 0.4619\n",
      "Epoch 45/100: Train Loss: 1.9797, Train Acc: 0.4279 | Val Loss: 2.0257, Val Acc: 0.4462\n",
      "Epoch 46/100: Train Loss: 1.9327, Train Acc: 0.4453 | Val Loss: 1.9645, Val Acc: 0.4522\n",
      "Epoch 47/100: Train Loss: 1.9590, Train Acc: 0.4471 | Val Loss: 1.9718, Val Acc: 0.4544\n",
      "Epoch 48/100: Train Loss: 1.9279, Train Acc: 0.4475 | Val Loss: 2.0266, Val Acc: 0.4477\n",
      "Epoch 49/100: Train Loss: 1.9667, Train Acc: 0.4314 | Val Loss: 2.0572, Val Acc: 0.4581\n",
      "Epoch 50/100: Train Loss: 1.9898, Train Acc: 0.4376 | Val Loss: 2.0448, Val Acc: 0.4492\n",
      "Epoch 51/100: Train Loss: 1.9502, Train Acc: 0.4361 | Val Loss: 1.9940, Val Acc: 0.4589\n",
      "Epoch 52/100: Train Loss: 1.9361, Train Acc: 0.4477 | Val Loss: 2.0295, Val Acc: 0.4432\n",
      "Epoch 53/100: Train Loss: 1.9446, Train Acc: 0.4460 | Val Loss: 1.9641, Val Acc: 0.4776\n",
      "Epoch 54/100: Train Loss: 1.9327, Train Acc: 0.4425 | Val Loss: 1.9830, Val Acc: 0.4679\n",
      "Epoch 55/100: Train Loss: 1.9219, Train Acc: 0.4467 | Val Loss: 1.9718, Val Acc: 0.4634\n",
      "Epoch 56/100: Train Loss: 1.9729, Train Acc: 0.4359 | Val Loss: 2.0040, Val Acc: 0.4522\n",
      "Epoch 57/100: Train Loss: 1.9504, Train Acc: 0.4438 | Val Loss: 1.9707, Val Acc: 0.4596\n",
      "Epoch 58/100: Train Loss: 1.9334, Train Acc: 0.4443 | Val Loss: 1.9815, Val Acc: 0.4567\n",
      "Epoch 59/100: Train Loss: 1.9402, Train Acc: 0.4413 | Val Loss: 1.9793, Val Acc: 0.4723\n",
      "Epoch 60/100: Train Loss: 1.9187, Train Acc: 0.4512 | Val Loss: 1.9966, Val Acc: 0.4596\n",
      "Epoch 61/100: Train Loss: 1.9361, Train Acc: 0.4486 | Val Loss: 1.9727, Val Acc: 0.4723\n",
      "Epoch 62/100: Train Loss: 1.9319, Train Acc: 0.4496 | Val Loss: 2.0372, Val Acc: 0.4492\n",
      "Epoch 63/100: Train Loss: 1.9256, Train Acc: 0.4524 | Val Loss: 1.9384, Val Acc: 0.4709\n",
      "Epoch 64/100: Train Loss: 1.9492, Train Acc: 0.4453 | Val Loss: 2.0801, Val Acc: 0.4469\n",
      "Epoch 65/100: Train Loss: 1.9233, Train Acc: 0.4408 | Val Loss: 1.9452, Val Acc: 0.4723\n",
      "Epoch 66/100: Train Loss: 1.9051, Train Acc: 0.4520 | Val Loss: 2.0406, Val Acc: 0.4641\n",
      "Epoch 67/100: Train Loss: 1.9129, Train Acc: 0.4454 | Val Loss: 1.9447, Val Acc: 0.4664\n",
      "Epoch 68/100: Train Loss: 1.8903, Train Acc: 0.4598 | Val Loss: 1.9981, Val Acc: 0.4574\n",
      "Epoch 69/100: Train Loss: 1.9006, Train Acc: 0.4538 | Val Loss: 1.9947, Val Acc: 0.4544\n",
      "Epoch 70/100: Train Loss: 1.9154, Train Acc: 0.4477 | Val Loss: 1.9434, Val Acc: 0.4738\n",
      "Epoch 71/100: Train Loss: 1.9117, Train Acc: 0.4469 | Val Loss: 1.9733, Val Acc: 0.4641\n",
      "Epoch 72/100: Train Loss: 1.9235, Train Acc: 0.4634 | Val Loss: 2.0222, Val Acc: 0.4514\n",
      "Epoch 73/100: Train Loss: 1.9078, Train Acc: 0.4557 | Val Loss: 1.9597, Val Acc: 0.4716\n",
      "Epoch 74/100: Train Loss: 1.9285, Train Acc: 0.4552 | Val Loss: 2.0329, Val Acc: 0.4716\n",
      "Epoch 75/100: Train Loss: 1.9112, Train Acc: 0.4477 | Val Loss: 2.0455, Val Acc: 0.4589\n",
      "Epoch 76/100: Train Loss: 1.9018, Train Acc: 0.4589 | Val Loss: 2.0245, Val Acc: 0.4604\n",
      "Epoch 77/100: Train Loss: 1.8815, Train Acc: 0.4703 | Val Loss: 2.0086, Val Acc: 0.4604\n",
      "Epoch 78/100: Train Loss: 1.9049, Train Acc: 0.4585 | Val Loss: 1.9928, Val Acc: 0.4567\n",
      "Epoch 79/100: Train Loss: 1.8982, Train Acc: 0.4568 | Val Loss: 2.0464, Val Acc: 0.4567\n",
      "Epoch 80/100: Train Loss: 1.9138, Train Acc: 0.4578 | Val Loss: 1.9852, Val Acc: 0.4783\n",
      "Epoch 81/100: Train Loss: 1.8911, Train Acc: 0.4574 | Val Loss: 1.9540, Val Acc: 0.4821\n",
      "Epoch 82/100: Train Loss: 1.8839, Train Acc: 0.4544 | Val Loss: 1.9866, Val Acc: 0.4649\n",
      "Epoch 83/100: Train Loss: 1.9093, Train Acc: 0.4456 | Val Loss: 2.0580, Val Acc: 0.4694\n",
      "Epoch 84/100: Train Loss: 1.8747, Train Acc: 0.4598 | Val Loss: 2.0589, Val Acc: 0.4484\n",
      "Epoch 85/100: Train Loss: 1.9232, Train Acc: 0.4522 | Val Loss: 1.9453, Val Acc: 0.4821\n",
      "Epoch 86/100: Train Loss: 1.8852, Train Acc: 0.4553 | Val Loss: 1.9105, Val Acc: 0.4888\n",
      "Epoch 87/100: Train Loss: 1.8948, Train Acc: 0.4626 | Val Loss: 1.9118, Val Acc: 0.4963\n",
      "Epoch 88/100: Train Loss: 1.8715, Train Acc: 0.4621 | Val Loss: 1.9899, Val Acc: 0.4492\n",
      "Epoch 89/100: Train Loss: 1.8806, Train Acc: 0.4540 | Val Loss: 1.9877, Val Acc: 0.4679\n",
      "Epoch 90/100: Train Loss: 1.8713, Train Acc: 0.4561 | Val Loss: 1.9796, Val Acc: 0.4783\n",
      "Epoch 91/100: Train Loss: 1.8668, Train Acc: 0.4574 | Val Loss: 1.9607, Val Acc: 0.4761\n",
      "Epoch 92/100: Train Loss: 1.8460, Train Acc: 0.4664 | Val Loss: 1.9973, Val Acc: 0.4664\n",
      "Epoch 93/100: Train Loss: 1.8876, Train Acc: 0.4608 | Val Loss: 1.9450, Val Acc: 0.4783\n",
      "Epoch 94/100: Train Loss: 1.8639, Train Acc: 0.4606 | Val Loss: 1.9802, Val Acc: 0.4813\n",
      "Epoch 95/100: Train Loss: 1.9282, Train Acc: 0.4482 | Val Loss: 1.9631, Val Acc: 0.4664\n",
      "Epoch 96/100: Train Loss: 1.9066, Train Acc: 0.4609 | Val Loss: 1.9706, Val Acc: 0.4821\n",
      "Epoch 97/100: Train Loss: 1.8854, Train Acc: 0.4596 | Val Loss: 2.0447, Val Acc: 0.4686\n",
      "Epoch 98/100: Train Loss: 1.8913, Train Acc: 0.4567 | Val Loss: 2.0068, Val Acc: 0.4656\n",
      "Epoch 99/100: Train Loss: 1.8881, Train Acc: 0.4636 | Val Loss: 2.0798, Val Acc: 0.4552\n",
      "Epoch 100/100: Train Loss: 1.8523, Train Acc: 0.4660 | Val Loss: 1.9515, Val Acc: 0.4791\n"
     ]
    }
   ],
   "source": [
    "history = train_loop(model, train_loader, test_loader, loss_fn, optimizer, 100)\n",
    "torch.save(model.state_dict(), \"finetune_bert_torch.pth\")"
   ]
  }
 ],
 "metadata": {
  "kernelspec": {
   "display_name": "courseenvfull",
   "language": "python",
   "name": "python3"
  },
  "language_info": {
   "codemirror_mode": {
    "name": "ipython",
    "version": 3
   },
   "file_extension": ".py",
   "mimetype": "text/x-python",
   "name": "python",
   "nbconvert_exporter": "python",
   "pygments_lexer": "ipython3",
   "version": "3.10.9"
  }
 },
 "nbformat": 4,
 "nbformat_minor": 5
}
