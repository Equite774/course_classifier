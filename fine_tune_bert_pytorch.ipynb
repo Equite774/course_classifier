{
 "cells": [
  {
   "cell_type": "code",
   "execution_count": 1,
   "id": "9021ecf0",
   "metadata": {},
   "outputs": [
    {
     "name": "stderr",
     "output_type": "stream",
     "text": [
      "/var/folders/8v/z7_lynrn24bbpwy6p36j3cwc0000gn/T/ipykernel_68226/2765435904.py:2: DeprecationWarning: \n",
      "Pyarrow will become a required dependency of pandas in the next major release of pandas (pandas 3.0),\n",
      "(to allow more performant data types, such as the Arrow string type, and better interoperability with other libraries)\n",
      "but was not found to be installed on your system.\n",
      "If this would cause problems for you,\n",
      "please provide us feedback at https://github.com/pandas-dev/pandas/issues/54466\n",
      "        \n",
      "  import pandas as pd\n",
      "/Users/chaiharsha/Documents/course_classifier/courseenvfull/lib/python3.10/site-packages/torchtext/data/__init__.py:4: UserWarning: \n",
      "/!\\ IMPORTANT WARNING ABOUT TORCHTEXT STATUS /!\\ \n",
      "Torchtext is deprecated and the last released version will be 0.18 (this one). You can silence this warning by calling the following at the beginnign of your scripts: `import torchtext; torchtext.disable_torchtext_deprecation_warning()`\n",
      "  warnings.warn(torchtext._TORCHTEXT_DEPRECATION_MSG)\n",
      "/Users/chaiharsha/Documents/course_classifier/courseenvfull/lib/python3.10/site-packages/torchtext/vocab/__init__.py:4: UserWarning: \n",
      "/!\\ IMPORTANT WARNING ABOUT TORCHTEXT STATUS /!\\ \n",
      "Torchtext is deprecated and the last released version will be 0.18 (this one). You can silence this warning by calling the following at the beginnign of your scripts: `import torchtext; torchtext.disable_torchtext_deprecation_warning()`\n",
      "  warnings.warn(torchtext._TORCHTEXT_DEPRECATION_MSG)\n",
      "/Users/chaiharsha/Documents/course_classifier/courseenvfull/lib/python3.10/site-packages/torchtext/utils.py:4: UserWarning: \n",
      "/!\\ IMPORTANT WARNING ABOUT TORCHTEXT STATUS /!\\ \n",
      "Torchtext is deprecated and the last released version will be 0.18 (this one). You can silence this warning by calling the following at the beginnign of your scripts: `import torchtext; torchtext.disable_torchtext_deprecation_warning()`\n",
      "  warnings.warn(torchtext._TORCHTEXT_DEPRECATION_MSG)\n",
      "/Users/chaiharsha/Documents/course_classifier/courseenvfull/lib/python3.10/site-packages/tqdm/auto.py:21: TqdmWarning: IProgress not found. Please update jupyter and ipywidgets. See https://ipywidgets.readthedocs.io/en/stable/user_install.html\n",
      "  from .autonotebook import tqdm as notebook_tqdm\n"
     ]
    }
   ],
   "source": [
    "import numpy as np\n",
    "import pandas as pd\n",
    "import matplotlib.pyplot as plt\n",
    "import torch\n",
    "import torchtext\n",
    "from torchtext.data import get_tokenizer\n",
    "import spacy\n",
    "from torch.nn.utils.rnn import pad_sequence\n",
    "from collections import Counter\n",
    "from torchtext.vocab import vocab as build_vocab\n",
    "from torch.utils.data import DataLoader, TensorDataset\n",
    "import sklearn\n",
    "from sklearn.preprocessing import LabelEncoder\n",
    "from sklearn.model_selection import train_test_split\n",
    "from transformers import AutoTokenizer, AutoModelForSequenceClassification"
   ]
  },
  {
   "cell_type": "code",
   "execution_count": 2,
   "id": "254d1baf",
   "metadata": {},
   "outputs": [
    {
     "data": {
      "text/html": [
       "<div>\n",
       "<style scoped>\n",
       "    .dataframe tbody tr th:only-of-type {\n",
       "        vertical-align: middle;\n",
       "    }\n",
       "\n",
       "    .dataframe tbody tr th {\n",
       "        vertical-align: top;\n",
       "    }\n",
       "\n",
       "    .dataframe thead th {\n",
       "        text-align: right;\n",
       "    }\n",
       "</style>\n",
       "<table border=\"1\" class=\"dataframe\">\n",
       "  <thead>\n",
       "    <tr style=\"text-align: right;\">\n",
       "      <th></th>\n",
       "      <th>Course</th>\n",
       "      <th>ID</th>\n",
       "      <th>Department</th>\n",
       "    </tr>\n",
       "  </thead>\n",
       "  <tbody>\n",
       "    <tr>\n",
       "      <th>0</th>\n",
       "      <td>Principles of Nutrition</td>\n",
       "      <td>BIOL</td>\n",
       "      <td>Biology</td>\n",
       "    </tr>\n",
       "    <tr>\n",
       "      <th>1</th>\n",
       "      <td>Nutrition for Fitness and Physical Activity</td>\n",
       "      <td>BIOL</td>\n",
       "      <td>Biology</td>\n",
       "    </tr>\n",
       "    <tr>\n",
       "      <th>2</th>\n",
       "      <td>Introduction to Human Physiology</td>\n",
       "      <td>BIOL</td>\n",
       "      <td>Biology</td>\n",
       "    </tr>\n",
       "    <tr>\n",
       "      <th>3</th>\n",
       "      <td>Biotechnology Management</td>\n",
       "      <td>BIOL</td>\n",
       "      <td>Biology</td>\n",
       "    </tr>\n",
       "    <tr>\n",
       "      <th>4</th>\n",
       "      <td>Living Biology at Brown and Beyond</td>\n",
       "      <td>BIOL</td>\n",
       "      <td>Biology</td>\n",
       "    </tr>\n",
       "  </tbody>\n",
       "</table>\n",
       "</div>"
      ],
      "text/plain": [
       "                                        Course    ID Department\n",
       "0                      Principles of Nutrition  BIOL    Biology\n",
       "1  Nutrition for Fitness and Physical Activity  BIOL    Biology\n",
       "2             Introduction to Human Physiology  BIOL    Biology\n",
       "3                     Biotechnology Management  BIOL    Biology\n",
       "4           Living Biology at Brown and Beyond  BIOL    Biology"
      ]
     },
     "execution_count": 2,
     "metadata": {},
     "output_type": "execute_result"
    }
   ],
   "source": [
    "df = pd.read_csv('courses.csv')\n",
    "df.head()"
   ]
  },
  {
   "cell_type": "code",
   "execution_count": 3,
   "id": "e09687a9",
   "metadata": {},
   "outputs": [],
   "source": [
    "text = df['Course']\n",
    "labels_text = df['Department']"
   ]
  },
  {
   "cell_type": "code",
   "execution_count": 4,
   "id": "f2068249",
   "metadata": {},
   "outputs": [
    {
     "name": "stdout",
     "output_type": "stream",
     "text": [
      "(6690, 26)\n"
     ]
    }
   ],
   "source": [
    "text_list = text.tolist()\n",
    "tokenizer = AutoTokenizer.from_pretrained(\"bert-base-uncased\")\n",
    "encoded = tokenizer(text_list, padding=True, return_tensors='np')\n",
    "sequences = encoded['input_ids']\n",
    "print(sequences.shape)\n",
    "max_length = sequences.shape[1]"
   ]
  },
  {
   "cell_type": "code",
   "execution_count": 5,
   "id": "fd50c75f",
   "metadata": {},
   "outputs": [],
   "source": [
    "label_encoder = LabelEncoder()\n",
    "labels_encoded = label_encoder.fit_transform(labels_text)\n",
    "output_dim = len(label_encoder.classes_)"
   ]
  },
  {
   "cell_type": "code",
   "execution_count": 6,
   "id": "06832092",
   "metadata": {},
   "outputs": [],
   "source": [
    "X_train, X_test, y_train, y_test = train_test_split(sequences, labels_encoded, test_size=0.2, random_state=17)\n",
    "train_data = TensorDataset(torch.tensor(X_train), torch.tensor(y_train))\n",
    "test_data = TensorDataset(torch.tensor(X_test), torch.tensor(y_test))\n",
    "train_loader = DataLoader(train_data, batch_size=32, shuffle=True)\n",
    "test_loader = DataLoader(test_data, batch_size=32, shuffle=False)"
   ]
  },
  {
   "cell_type": "code",
   "execution_count": 7,
   "id": "aed56019",
   "metadata": {},
   "outputs": [
    {
     "name": "stderr",
     "output_type": "stream",
     "text": [
      "Some weights of DistilBertForSequenceClassification were not initialized from the model checkpoint at distilbert-base-uncased and are newly initialized: ['classifier.bias', 'classifier.weight', 'pre_classifier.bias', 'pre_classifier.weight']\n",
      "You should probably TRAIN this model on a down-stream task to be able to use it for predictions and inference.\n"
     ]
    }
   ],
   "source": [
    "model = AutoModelForSequenceClassification.from_pretrained(\"distilbert-base-uncased\", num_labels=output_dim)"
   ]
  },
  {
   "cell_type": "code",
   "execution_count": 8,
   "id": "6cc46dfe",
   "metadata": {},
   "outputs": [],
   "source": [
    "for param in model.distilbert.parameters():\n",
    "    param.requires_grad = False"
   ]
  },
  {
   "cell_type": "code",
   "execution_count": 9,
   "id": "6f552072",
   "metadata": {},
   "outputs": [],
   "source": [
    "loss_fn = torch.nn.CrossEntropyLoss()\n",
    "optimizer = torch.optim.Adam(model.parameters(), lr=5e-3)"
   ]
  },
  {
   "cell_type": "code",
   "execution_count": 10,
   "id": "440f4083",
   "metadata": {},
   "outputs": [],
   "source": [
    "def train_loop(model, train_loader, val_loader, loss_fn, optimizer, num_epochs=100):\n",
    "    history = {'train_loss': [], 'train_acc': [], 'val_loss': [], 'val_acc': []}\n",
    "\n",
    "    for epoch in range(num_epochs):\n",
    "        model.train()\n",
    "        total_loss, correct, total = 0, 0, 0        \n",
    "\n",
    "        for inputs, targets in train_loader:\n",
    "            \n",
    "            optimizer.zero_grad()\n",
    "            outputs = model(inputs).logits\n",
    "            loss = loss_fn(outputs, targets)\n",
    "            loss.backward()\n",
    "            optimizer.step()\n",
    "\n",
    "            total_loss += loss.item() * targets.size(0)\n",
    "            correct += (outputs.argmax(1) == targets).sum().item()\n",
    "            total += targets.size(0)\n",
    "\n",
    "        train_loss = total_loss / total\n",
    "        train_acc = correct / total\n",
    "        history['train_loss'].append(train_loss)\n",
    "        history['train_acc'].append(train_acc)\n",
    "\n",
    "        # Validation\n",
    "        model.eval()\n",
    "        val_loss, val_correct, val_total = 0, 0, 0\n",
    "        with torch.no_grad():\n",
    "            for inputs, targets in val_loader:\n",
    "                outputs = model(inputs).logits\n",
    "                loss = loss_fn(outputs, targets)\n",
    "\n",
    "                val_loss += loss.item() * targets.size(0)\n",
    "                val_correct += (outputs.argmax(1) == targets).sum().item()\n",
    "                val_total += targets.size(0)\n",
    "\n",
    "        val_loss /= val_total\n",
    "        val_acc = val_correct / val_total\n",
    "        history['val_loss'].append(val_loss)\n",
    "        history['val_acc'].append(val_acc)\n",
    "\n",
    "        print(f\"Epoch {epoch+1}/{num_epochs}: \"\n",
    "              f\"Train Loss: {train_loss:.4f}, Train Acc: {train_acc:.4f} | \"\n",
    "              f\"Val Loss: {val_loss:.4f}, Val Acc: {val_acc:.4f}\")\n",
    "\n",
    "    return history"
   ]
  },
  {
   "cell_type": "code",
   "execution_count": 11,
   "id": "392a13dc",
   "metadata": {},
   "outputs": [
    {
     "name": "stderr",
     "output_type": "stream",
     "text": [
      "We strongly recommend passing in an `attention_mask` since your input_ids may be padded. See https://huggingface.co/docs/transformers/troubleshooting#incorrect-output-when-padding-tokens-arent-masked.\n"
     ]
    },
    {
     "name": "stdout",
     "output_type": "stream",
     "text": [
      "Epoch 1/60: Train Loss: 3.4835, Train Acc: 0.1381 | Val Loss: 2.9862, Val Acc: 0.2025\n",
      "Epoch 2/60: Train Loss: 2.9920, Train Acc: 0.2063 | Val Loss: 2.7173, Val Acc: 0.2556\n",
      "Epoch 3/60: Train Loss: 2.7798, Train Acc: 0.2507 | Val Loss: 2.5498, Val Acc: 0.3191\n",
      "Epoch 4/60: Train Loss: 2.6399, Train Acc: 0.2818 | Val Loss: 2.4809, Val Acc: 0.3072\n",
      "Epoch 5/60: Train Loss: 2.5336, Train Acc: 0.3135 | Val Loss: 2.4023, Val Acc: 0.3288\n",
      "Epoch 6/60: Train Loss: 2.4802, Train Acc: 0.3132 | Val Loss: 2.2952, Val Acc: 0.3610\n",
      "Epoch 7/60: Train Loss: 2.4240, Train Acc: 0.3315 | Val Loss: 2.3452, Val Acc: 0.3558\n",
      "Epoch 8/60: Train Loss: 2.3992, Train Acc: 0.3391 | Val Loss: 2.2598, Val Acc: 0.3513\n",
      "Epoch 9/60: Train Loss: 2.3604, Train Acc: 0.3459 | Val Loss: 2.1866, Val Acc: 0.3849\n",
      "Epoch 10/60: Train Loss: 2.3157, Train Acc: 0.3567 | Val Loss: 2.1735, Val Acc: 0.3999\n",
      "Epoch 11/60: Train Loss: 2.2794, Train Acc: 0.3679 | Val Loss: 2.1066, Val Acc: 0.4073\n",
      "Epoch 12/60: Train Loss: 2.2629, Train Acc: 0.3703 | Val Loss: 2.1179, Val Acc: 0.4148\n",
      "Epoch 13/60: Train Loss: 2.2354, Train Acc: 0.3765 | Val Loss: 2.1621, Val Acc: 0.3909\n",
      "Epoch 14/60: Train Loss: 2.2500, Train Acc: 0.3707 | Val Loss: 2.0918, Val Acc: 0.4051\n",
      "Epoch 15/60: Train Loss: 2.2106, Train Acc: 0.3834 | Val Loss: 2.0697, Val Acc: 0.4342\n",
      "Epoch 16/60: Train Loss: 2.1901, Train Acc: 0.3875 | Val Loss: 2.0922, Val Acc: 0.4088\n",
      "Epoch 17/60: Train Loss: 2.1653, Train Acc: 0.3896 | Val Loss: 2.1097, Val Acc: 0.4051\n",
      "Epoch 18/60: Train Loss: 2.1710, Train Acc: 0.3899 | Val Loss: 2.0278, Val Acc: 0.4200\n",
      "Epoch 19/60: Train Loss: 2.1662, Train Acc: 0.3924 | Val Loss: 2.0789, Val Acc: 0.4170\n",
      "Epoch 20/60: Train Loss: 2.1587, Train Acc: 0.3954 | Val Loss: 2.0382, Val Acc: 0.4357\n",
      "Epoch 21/60: Train Loss: 2.1261, Train Acc: 0.4109 | Val Loss: 2.0405, Val Acc: 0.4268\n",
      "Epoch 22/60: Train Loss: 2.1251, Train Acc: 0.3991 | Val Loss: 2.0630, Val Acc: 0.4223\n",
      "Epoch 23/60: Train Loss: 2.1483, Train Acc: 0.3972 | Val Loss: 2.0276, Val Acc: 0.4305\n",
      "Epoch 24/60: Train Loss: 2.0918, Train Acc: 0.4163 | Val Loss: 2.0780, Val Acc: 0.4320\n",
      "Epoch 25/60: Train Loss: 2.1203, Train Acc: 0.4034 | Val Loss: 2.1415, Val Acc: 0.4103\n",
      "Epoch 26/60: Train Loss: 2.1162, Train Acc: 0.4027 | Val Loss: 2.0561, Val Acc: 0.4410\n",
      "Epoch 27/60: Train Loss: 2.0946, Train Acc: 0.4112 | Val Loss: 2.0707, Val Acc: 0.4163\n",
      "Epoch 28/60: Train Loss: 2.1005, Train Acc: 0.4169 | Val Loss: 2.0045, Val Acc: 0.4417\n",
      "Epoch 29/60: Train Loss: 2.0909, Train Acc: 0.4180 | Val Loss: 2.0630, Val Acc: 0.4260\n",
      "Epoch 30/60: Train Loss: 2.0730, Train Acc: 0.4079 | Val Loss: 2.0125, Val Acc: 0.4290\n",
      "Epoch 31/60: Train Loss: 2.0796, Train Acc: 0.4098 | Val Loss: 2.0298, Val Acc: 0.4372\n",
      "Epoch 32/60: Train Loss: 2.0870, Train Acc: 0.4109 | Val Loss: 2.0069, Val Acc: 0.4469\n",
      "Epoch 33/60: Train Loss: 2.0791, Train Acc: 0.4152 | Val Loss: 2.0119, Val Acc: 0.4372\n",
      "Epoch 34/60: Train Loss: 2.0613, Train Acc: 0.4215 | Val Loss: 1.9699, Val Acc: 0.4454\n",
      "Epoch 35/60: Train Loss: 2.0650, Train Acc: 0.4189 | Val Loss: 1.9604, Val Acc: 0.4529\n",
      "Epoch 36/60: Train Loss: 2.0234, Train Acc: 0.4243 | Val Loss: 2.0072, Val Acc: 0.4417\n",
      "Epoch 37/60: Train Loss: 2.0480, Train Acc: 0.4165 | Val Loss: 2.0031, Val Acc: 0.4559\n",
      "Epoch 38/60: Train Loss: 2.0158, Train Acc: 0.4240 | Val Loss: 1.9984, Val Acc: 0.4439\n",
      "Epoch 39/60: Train Loss: 2.0417, Train Acc: 0.4195 | Val Loss: 1.9754, Val Acc: 0.4499\n",
      "Epoch 40/60: Train Loss: 2.0094, Train Acc: 0.4301 | Val Loss: 1.9919, Val Acc: 0.4410\n",
      "Epoch 41/60: Train Loss: 2.0121, Train Acc: 0.4202 | Val Loss: 2.0315, Val Acc: 0.4439\n",
      "Epoch 42/60: Train Loss: 2.0297, Train Acc: 0.4253 | Val Loss: 1.9956, Val Acc: 0.4604\n",
      "Epoch 43/60: Train Loss: 2.0399, Train Acc: 0.4241 | Val Loss: 2.0696, Val Acc: 0.4297\n",
      "Epoch 44/60: Train Loss: 2.0223, Train Acc: 0.4260 | Val Loss: 1.9668, Val Acc: 0.4454\n",
      "Epoch 45/60: Train Loss: 2.0096, Train Acc: 0.4243 | Val Loss: 1.9724, Val Acc: 0.4656\n",
      "Epoch 46/60: Train Loss: 2.0267, Train Acc: 0.4213 | Val Loss: 2.0055, Val Acc: 0.4462\n",
      "Epoch 47/60: Train Loss: 2.0191, Train Acc: 0.4195 | Val Loss: 2.0499, Val Acc: 0.4327\n",
      "Epoch 48/60: Train Loss: 2.0026, Train Acc: 0.4292 | Val Loss: 1.9721, Val Acc: 0.4604\n",
      "Epoch 49/60: Train Loss: 1.9771, Train Acc: 0.4354 | Val Loss: 1.9624, Val Acc: 0.4581\n",
      "Epoch 50/60: Train Loss: 2.0294, Train Acc: 0.4253 | Val Loss: 1.9943, Val Acc: 0.4402\n",
      "Epoch 51/60: Train Loss: 1.9789, Train Acc: 0.4350 | Val Loss: 1.9297, Val Acc: 0.4694\n",
      "Epoch 52/60: Train Loss: 1.9729, Train Acc: 0.4368 | Val Loss: 1.9124, Val Acc: 0.4671\n",
      "Epoch 53/60: Train Loss: 1.9928, Train Acc: 0.4309 | Val Loss: 2.0343, Val Acc: 0.4365\n",
      "Epoch 54/60: Train Loss: 2.0102, Train Acc: 0.4415 | Val Loss: 1.9491, Val Acc: 0.4596\n",
      "Epoch 55/60: Train Loss: 1.9814, Train Acc: 0.4247 | Val Loss: 1.9661, Val Acc: 0.4567\n",
      "Epoch 56/60: Train Loss: 1.9854, Train Acc: 0.4342 | Val Loss: 1.9805, Val Acc: 0.4529\n",
      "Epoch 57/60: Train Loss: 2.0068, Train Acc: 0.4281 | Val Loss: 1.9819, Val Acc: 0.4514\n",
      "Epoch 58/60: Train Loss: 1.9849, Train Acc: 0.4311 | Val Loss: 1.9713, Val Acc: 0.4596\n",
      "Epoch 59/60: Train Loss: 1.9879, Train Acc: 0.4290 | Val Loss: 1.9804, Val Acc: 0.4567\n",
      "Epoch 60/60: Train Loss: 1.9789, Train Acc: 0.4335 | Val Loss: 1.9323, Val Acc: 0.4611\n"
     ]
    }
   ],
   "source": [
    "history = train_loop(model, train_loader, test_loader, loss_fn, optimizer, 60)\n",
    "torch.save(model.state_dict(), \"finetune_bert_torch.pth\")"
   ]
  },
  {
   "cell_type": "code",
   "execution_count": 13,
   "id": "38222738",
   "metadata": {},
   "outputs": [
    {
     "data": {
      "text/plain": [
       "[<matplotlib.lines.Line2D at 0x35184cdc0>]"
      ]
     },
     "execution_count": 13,
     "metadata": {},
     "output_type": "execute_result"
    },
    {
     "data": {
      "image/png": "[encoded data removed]",
      "text/plain": [
       "<Figure size 640x480 with 1 Axes>"
      ]
     },
     "metadata": {},
     "output_type": "display_data"
    }
   ],
   "source": [
    "plt.plot(history['train_acc'], label='accuracy')\n",
    "plt.plot(history['val_acc'], label='val_accuracy')"
   ]
  },
  {
   "cell_type": "code",
   "execution_count": 20,
   "id": "5413c025",
   "metadata": {},
   "outputs": [
    {
     "name": "stdout",
     "output_type": "stream",
     "text": [
      "Top 5 predicted departments for 'Imperial Republicanism in Antiquity':\n",
      "1. History: 96.92%\n",
      "2. Classics: 1.56%\n",
      "3. Archaeology: 1.04%\n",
      "4. Art History: 0.15%\n",
      "5. Political Science: 0.05%\n"
     ]
    }
   ],
   "source": [
    "predict_text = \"Imperial Republicanism in Antiquity\"\n",
    "tokens = tokenizer(predict_text, return_tensors=\"pt\")\n",
    "sequence = tokens['input_ids']\n",
    "with torch.no_grad():\n",
    "    model.eval()\n",
    "    output = model(sequence)\n",
    "    logits = output.logits\n",
    "    probabilities = torch.nn.functional.softmax(logits, dim=1)\n",
    "\n",
    "    top_probs, top_indices = torch.topk(probabilities, k=5)\n",
    "    top_probs = top_probs.squeeze().tolist()\n",
    "    top_indices = top_indices.squeeze().tolist()\n",
    "\n",
    "    print(f\"Top 5 predicted departments for '{predict_text}':\")\n",
    "    for i, (prob, idx) in enumerate(zip(top_probs, top_indices)):\n",
    "        department = label_encoder.inverse_transform([idx])[0]\n",
    "        print(f\"{i+1}. {department}: {prob*100:.2f}%\")"
   ]
  }
 ],
 "metadata": {
  "kernelspec": {
   "display_name": "courseenvfull",
   "language": "python",
   "name": "python3"
  },
  "language_info": {
   "codemirror_mode": {
    "name": "ipython",
    "version": 3
   },
   "file_extension": ".py",
   "mimetype": "text/x-python",
   "name": "python",
   "nbconvert_exporter": "python",
   "pygments_lexer": "ipython3",
   "version": "3.10.9"
  }
 },
 "nbformat": 4,
 "nbformat_minor": 5
}
