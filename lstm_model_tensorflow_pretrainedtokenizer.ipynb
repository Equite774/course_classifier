{
 "cells": [
  {
   "cell_type": "code",
   "execution_count": 2,
   "id": "7547d5a0",
   "metadata": {},
   "outputs": [
    {
     "name": "stderr",
     "output_type": "stream",
     "text": [
      "/var/folders/8v/z7_lynrn24bbpwy6p36j3cwc0000gn/T/ipykernel_31449/3168014724.py:2: DeprecationWarning: \n",
      "Pyarrow will become a required dependency of pandas in the next major release of pandas (pandas 3.0),\n",
      "(to allow more performant data types, such as the Arrow string type, and better interoperability with other libraries)\n",
      "but was not found to be installed on your system.\n",
      "If this would cause problems for you,\n",
      "please provide us feedback at https://github.com/pandas-dev/pandas/issues/54466\n",
      "        \n",
      "  import pandas as pd\n",
      "/Users/chaiharsha/Documents/course_classifier/courseenvfull/lib/python3.10/site-packages/tqdm/auto.py:21: TqdmWarning: IProgress not found. Please update jupyter and ipywidgets. See https://ipywidgets.readthedocs.io/en/stable/user_install.html\n",
      "  from .autonotebook import tqdm as notebook_tqdm\n"
     ]
    }
   ],
   "source": [
    "import numpy as np\n",
    "import pandas as pd\n",
    "import matplotlib.pyplot as plt\n",
    "import tensorflow as tf\n",
    "import keras\n",
    "from keras.preprocessing.text import Tokenizer\n",
    "from tensorflow.keras.preprocessing.sequence import pad_sequences\n",
    "import sklearn\n",
    "from sklearn.preprocessing import LabelEncoder\n",
    "from sklearn.model_selection import train_test_split\n",
    "from transformers import AutoTokenizer"
   ]
  },
  {
   "cell_type": "code",
   "execution_count": 3,
   "id": "2e369aed",
   "metadata": {},
   "outputs": [
    {
     "data": {
      "text/html": [
       "<div>\n",
       "<style scoped>\n",
       "    .dataframe tbody tr th:only-of-type {\n",
       "        vertical-align: middle;\n",
       "    }\n",
       "\n",
       "    .dataframe tbody tr th {\n",
       "        vertical-align: top;\n",
       "    }\n",
       "\n",
       "    .dataframe thead th {\n",
       "        text-align: right;\n",
       "    }\n",
       "</style>\n",
       "<table border=\"1\" class=\"dataframe\">\n",
       "  <thead>\n",
       "    <tr style=\"text-align: right;\">\n",
       "      <th></th>\n",
       "      <th>Course</th>\n",
       "      <th>ID</th>\n",
       "      <th>Department</th>\n",
       "    </tr>\n",
       "  </thead>\n",
       "  <tbody>\n",
       "    <tr>\n",
       "      <th>0</th>\n",
       "      <td>Principles of Nutrition</td>\n",
       "      <td>BIOL</td>\n",
       "      <td>Biology</td>\n",
       "    </tr>\n",
       "    <tr>\n",
       "      <th>1</th>\n",
       "      <td>Nutrition for Fitness and Physical Activity</td>\n",
       "      <td>BIOL</td>\n",
       "      <td>Biology</td>\n",
       "    </tr>\n",
       "    <tr>\n",
       "      <th>2</th>\n",
       "      <td>Introduction to Human Physiology</td>\n",
       "      <td>BIOL</td>\n",
       "      <td>Biology</td>\n",
       "    </tr>\n",
       "    <tr>\n",
       "      <th>3</th>\n",
       "      <td>Biotechnology Management</td>\n",
       "      <td>BIOL</td>\n",
       "      <td>Biology</td>\n",
       "    </tr>\n",
       "    <tr>\n",
       "      <th>4</th>\n",
       "      <td>Living Biology at Brown and Beyond</td>\n",
       "      <td>BIOL</td>\n",
       "      <td>Biology</td>\n",
       "    </tr>\n",
       "  </tbody>\n",
       "</table>\n",
       "</div>"
      ],
      "text/plain": [
       "                                        Course    ID Department\n",
       "0                      Principles of Nutrition  BIOL    Biology\n",
       "1  Nutrition for Fitness and Physical Activity  BIOL    Biology\n",
       "2             Introduction to Human Physiology  BIOL    Biology\n",
       "3                     Biotechnology Management  BIOL    Biology\n",
       "4           Living Biology at Brown and Beyond  BIOL    Biology"
      ]
     },
     "execution_count": 3,
     "metadata": {},
     "output_type": "execute_result"
    }
   ],
   "source": [
    "df = pd.read_csv(\"courses.csv\")\n",
    "pd.set_option('display.max_rows', None)\n",
    "df.head()"
   ]
  },
  {
   "cell_type": "code",
   "execution_count": 4,
   "id": "238748ba",
   "metadata": {},
   "outputs": [
    {
     "data": {
      "text/plain": [
       "Department\n",
       "English                             561\n",
       "History                             380\n",
       "Political Science                   316\n",
       "Engineering                         264\n",
       "Comparative Literature              245\n",
       "Modern Culture and Media            237\n",
       "American Studies                    217\n",
       "Sociology                           210\n",
       "Anthropology                        203\n",
       "Computer Science                    199\n",
       "Music                               188\n",
       "Art History                         183\n",
       "Religious Studies                   179\n",
       "Applied Mathematics                 174\n",
       "Biology                             170\n",
       "Theater and Performance             148\n",
       "Economics                           148\n",
       "Philosophy                          138\n",
       "Africana Studies                    135\n",
       "Public Health                       131\n",
       "Geology                             127\n",
       "Archaeology                         126\n",
       "German                              121\n",
       "International and Public Affairs    109\n",
       "Classics                            103\n",
       "Latin                                93\n",
       "Mathematics                          93\n",
       "Hispanic Studies                     92\n",
       "Physics                              85\n",
       "Ancient Greek                        75\n",
       "Russian                              68\n",
       "Education                            67\n",
       "Judaic Studies                       66\n",
       "Environmental Studies                64\n",
       "Gender and Sexuality Studies         61\n",
       "Italian                              61\n",
       "Humanities                           57\n",
       "Ethnic Studies                       56\n",
       "Chemistry                            53\n",
       "Neuroscience                         53\n",
       "Portuguese and Brazilian Studies     48\n",
       "Visual Art                           46\n",
       "Middle Eastern Studies               44\n",
       "Urban Studies                        43\n",
       "East Asian Studies                   34\n",
       "Assyriology                          34\n",
       "Latin American Studies               31\n",
       "Contemplative Studies                25\n",
       "Egyptology                           25\n",
       "Science Technology and Society       22\n",
       "Slavic Studies                       20\n",
       "Arts Institute                       19\n",
       "Data Science                         19\n",
       "Chinese                              18\n",
       "Czech                                18\n",
       "Japanese                             17\n",
       "Sanskrit                             14\n",
       "Arabic                               13\n",
       "Modern Greek                         13\n",
       "Korean                               13\n",
       "Persian                              12\n",
       "South Asian Studies                  12\n",
       "Public Humanities                    11\n",
       "Turkish                               9\n",
       "Language Studies                      9\n",
       "Polish                                9\n",
       "American Sign Language                7\n",
       "Hebrew                                7\n",
       "Native American Studies               7\n",
       "Nahuatl                               6\n",
       "Yoruba                                5\n",
       "Hindi-Urdu                            5\n",
       "Catalan                               4\n",
       "Swedish                               4\n",
       "Vietnamese                            4\n",
       "Early Cultures                        4\n",
       "Medeival Studies                      3\n",
       "Name: count, dtype: int64"
      ]
     },
     "execution_count": 4,
     "metadata": {},
     "output_type": "execute_result"
    }
   ],
   "source": [
    "counts = df['Department'].value_counts()\n",
    "df['Department'].value_counts()"
   ]
  },
  {
   "cell_type": "code",
   "execution_count": null,
   "id": "ab2514ea",
   "metadata": {},
   "outputs": [],
   "source": [
    "department_mapping = {\n",
    "    'History': 'History & Social Sciences',\n",
    "    'Political Science': 'History & Social Sciences',\n",
    "    'International and Public Affairs': 'History & Social Sciences',\n",
    "    'Sociology': 'History & Social Sciences',\n",
    "    'Anthropology': 'History & Social Sciences',\n",
    "    'Africana Studies': 'History & Social Sciences',\n",
    "    'Public Health': 'History & Social Sciences',\n",
    "    'Economics': 'History & Social Sciences',\n",
    "    'Education': 'History & Social Sciences',\n",
    "    'Gender and Sexuality Studies': 'History & Social Sciences',\n",
    "    'Urban Studies': 'History & Social Sciences',\n",
    "\n",
    "    'Mathematics': 'STEM',\n",
    "    'Applied Mathematics': 'STEM',\n",
    "    'Physics': 'STEM',\n",
    "    'Engineering': 'STEM',\n",
    "    'Computer Science': 'STEM',\n",
    "    'Biology': 'STEM',\n",
    "    'Neuroscience': 'STEM',\n",
    "    'Chemistry': 'STEM',\n",
    "    'Geology': 'STEM',\n",
    "    'Data Science': 'STEM',\n",
    "    'Environmental Studies': 'STEM',\n",
    "\n",
    "    'Modern Culture and Media': 'Arts & Media',\n",
    "    'Music': 'Arts & Media',\n",
    "    'Theater and Performance': 'Arts & Media',\n",
    "    'Visual Art': 'Arts & Media',\n",
    "    'Art History': 'Arts & Media',\n",
    "    'Arts Institute': 'Arts & Media',\n",
    "    'English': 'Arts & Media',\n",
    "    'Comparative Literature': 'Arts & Media',\n",
    "\n",
    "    'Philosophy': 'Philosophy & Religion',\n",
    "    'Religious Studies': 'Philosophy & Religion',\n",
    "    'Contemplative Studies': 'Philosophy & Religion',\n",
    "    'Judaic Studies': 'Philosophy & Religion',\n",
    "\n",
    "    'Latin': 'Languages',\n",
    "    'Ancient Greek': 'Languages',\n",
    "    'German': 'Languages',\n",
    "    'Russian': 'Languages',\n",
    "    'Italian': 'Languages',\n",
    "    'Portuguese and Brazilian Studies': 'Languages',\n",
    "    'East Asian Studies': 'Languages',\n",
    "    'Chinese': 'Languages',\n",
    "    'Japanese': 'Languages',\n",
    "    'Korean': 'Languages',\n",
    "    'Hindi-Urdu': 'Languages',\n",
    "    'Arabic': 'Languages',\n",
    "    'Sanskrit': 'Languages',\n",
    "    'Persian': 'Languages',\n",
    "    'Swedish': 'Languages',\n",
    "    'Catalan': 'Languages',\n",
    "    'Vietnamese': 'Languages',\n",
    "    'Polish': 'Languages',\n",
    "    'Hebrew': 'Languages',\n",
    "    'Turkish': 'Languages',\n",
    "    'Yoruba': 'Languages',\n",
    "    'Czech': 'Languages',\n",
    "    'Language Studies': 'Languages',\n",
    "    'Native American Studies': 'Languages',\n",
    "\n",
    "    'Egyptology': 'Ancient Studies',\n",
    "    'Assyriology': 'Ancient Studies',\n",
    "    'Classics': 'Ancient Studies',\n",
    "    'Archaeology': 'Ancient Studies',\n",
    "    'Early Cultures': 'Ancient Studies',\n",
    "    'Medeival Studies': 'Ancient Studies',\n",
    "\n",
    "    'Other': 'Other'\n",
    "}"
   ]
  },
  {
   "cell_type": "code",
   "execution_count": 74,
   "id": "42930459",
   "metadata": {},
   "outputs": [
    {
     "ename": "NameError",
     "evalue": "name 'department_mapping' is not defined",
     "output_type": "error",
     "traceback": [
      "\u001b[0;31m---------------------------------------------------------------------------\u001b[0m",
      "\u001b[0;31mNameError\u001b[0m                                 Traceback (most recent call last)",
      "Cell \u001b[0;32mIn[74], line 1\u001b[0m\n\u001b[0;32m----> 1\u001b[0m df[\u001b[38;5;124m'\u001b[39m\u001b[38;5;124mDepartment_Grouped\u001b[39m\u001b[38;5;124m'\u001b[39m] \u001b[38;5;241m=\u001b[39m df[\u001b[38;5;124m'\u001b[39m\u001b[38;5;124mDepartment\u001b[39m\u001b[38;5;124m'\u001b[39m]\u001b[38;5;241m.\u001b[39mmap(\u001b[43mdepartment_mapping\u001b[49m)\u001b[38;5;241m.\u001b[39mfillna(\u001b[38;5;124m'\u001b[39m\u001b[38;5;124mOther\u001b[39m\u001b[38;5;124m'\u001b[39m)\n\u001b[1;32m      2\u001b[0m df[\u001b[38;5;124m'\u001b[39m\u001b[38;5;124mDepartment_Grouped\u001b[39m\u001b[38;5;124m'\u001b[39m]\u001b[38;5;241m.\u001b[39mvalue_counts()\n",
      "\u001b[0;31mNameError\u001b[0m: name 'department_mapping' is not defined"
     ]
    }
   ],
   "source": [
    "df['Department_Grouped'] = df['Department'].map(department_mapping).fillna('Other')\n",
    "df['Department_Grouped'].value_counts()"
   ]
  },
  {
   "cell_type": "code",
   "execution_count": 5,
   "id": "a25617ff",
   "metadata": {},
   "outputs": [],
   "source": [
    "labels_text = df['Department']\n",
    "text = df['Course']"
   ]
  },
  {
   "cell_type": "code",
   "execution_count": 6,
   "id": "cd5ae5ff",
   "metadata": {},
   "outputs": [
    {
     "name": "stdout",
     "output_type": "stream",
     "text": [
      "(6690, 26)\n"
     ]
    }
   ],
   "source": [
    "text_list = text.tolist()\n",
    "tokenizer_pretrained = AutoTokenizer.from_pretrained(\"bert-base-uncased\")\n",
    "encoded = tokenizer_pretrained(text_list, padding=True, return_tensors=\"np\")\n",
    "sequences_pretrained = encoded['input_ids']\n",
    "print(sequences_pretrained.shape)\n",
    "max_length_pretrained = sequences_pretrained.shape[1]"
   ]
  },
  {
   "cell_type": "code",
   "execution_count": 7,
   "id": "9bff859e",
   "metadata": {},
   "outputs": [],
   "source": [
    "label_encoder = LabelEncoder()\n",
    "labels = label_encoder.fit_transform(labels_text) "
   ]
  },
  {
   "cell_type": "code",
   "execution_count": 8,
   "id": "3a177b06",
   "metadata": {},
   "outputs": [
    {
     "name": "stdout",
     "output_type": "stream",
     "text": [
      "(6690, 77)\n"
     ]
    }
   ],
   "source": [
    "one_hot_labels = keras.utils.to_categorical(labels)\n",
    "print(one_hot_labels.shape)"
   ]
  },
  {
   "cell_type": "code",
   "execution_count": 9,
   "id": "9ef5d6b5",
   "metadata": {},
   "outputs": [],
   "source": [
    "X_train, X_val, y_train, y_val = train_test_split(sequences_pretrained, one_hot_labels, test_size=0.2, random_state=17)"
   ]
  },
  {
   "cell_type": "code",
   "execution_count": 10,
   "id": "5cf68631",
   "metadata": {},
   "outputs": [],
   "source": [
    "embeddings_index = {}\n",
    "with open('glove.6B.100d.txt') as f:\n",
    "    for line in f:\n",
    "        word, coefs = line.split(maxsplit=1)\n",
    "        coefs = np.fromstring(coefs, \"f\", sep=\" \")\n",
    "        embeddings_index[word] = coefs"
   ]
  },
  {
   "cell_type": "code",
   "execution_count": 13,
   "id": "8dd9f004",
   "metadata": {},
   "outputs": [],
   "source": [
    "embedding_dim = 100\n",
    "vocab = tokenizer_pretrained.get_vocab()\n",
    "vocab_size = len(vocab) + 1\n",
    "embedding_matrix = np.zeros((vocab_size, embedding_dim))"
   ]
  },
  {
   "cell_type": "code",
   "execution_count": 14,
   "id": "8cd26c6b",
   "metadata": {},
   "outputs": [],
   "source": [
    "trainable = True\n",
    "model = tf.keras.Sequential([\n",
    "    tf.keras.layers.Embedding(input_dim=vocab_size, output_dim=embedding_dim, weights=[embedding_matrix], input_length=max_length_pretrained, trainable=trainable),\n",
    "    tf.keras.layers.Bidirectional(tf.keras.layers.LSTM(64)),\n",
    "    tf.keras.layers.Dense(len(label_encoder.classes_), activation='softmax')\n",
    "])\n",
    "model.compile(optimizer='adam', loss='categorical_crossentropy', metrics=['accuracy'])"
   ]
  },
  {
   "cell_type": "code",
   "execution_count": 15,
   "id": "7ee43f66",
   "metadata": {},
   "outputs": [
    {
     "name": "stdout",
     "output_type": "stream",
     "text": [
      "Model: \"sequential\"\n",
      "_________________________________________________________________\n",
      " Layer (type)                Output Shape              Param #   \n",
      "=================================================================\n",
      " embedding (Embedding)       (None, 26, 100)           3052300   \n",
      "                                                                 \n",
      " bidirectional (Bidirection  (None, 128)               84480     \n",
      " al)                                                             \n",
      "                                                                 \n",
      " dense (Dense)               (None, 77)                9933      \n",
      "                                                                 \n",
      "=================================================================\n",
      "Total params: 3146713 (12.00 MB)\n",
      "Trainable params: 3146713 (12.00 MB)\n",
      "Non-trainable params: 0 (0.00 Byte)\n",
      "_________________________________________________________________\n"
     ]
    }
   ],
   "source": [
    "model.summary()"
   ]
  },
  {
   "cell_type": "code",
   "execution_count": 16,
   "id": "920ba54e",
   "metadata": {},
   "outputs": [],
   "source": [
    "early_stopping = tf.keras.callbacks.EarlyStopping(monitor='val_loss', patience=5, min_delta=0.001, restore_best_weights=True)"
   ]
  },
  {
   "cell_type": "code",
   "execution_count": 17,
   "id": "dc29e891",
   "metadata": {},
   "outputs": [
    {
     "name": "stdout",
     "output_type": "stream",
     "text": [
      "Epoch 1/25\n",
      "168/168 [==============================] - 4s 18ms/step - loss: 3.8849 - accuracy: 0.0826 - val_loss: 3.7494 - val_accuracy: 0.1099\n",
      "Epoch 2/25\n",
      "168/168 [==============================] - 3s 17ms/step - loss: 3.3302 - accuracy: 0.1895 - val_loss: 2.9783 - val_accuracy: 0.2765\n",
      "Epoch 3/25\n",
      "168/168 [==============================] - 3s 16ms/step - loss: 2.2922 - accuracy: 0.4488 - val_loss: 2.5510 - val_accuracy: 0.3939\n",
      "Epoch 4/25\n",
      "168/168 [==============================] - 3s 16ms/step - loss: 1.6025 - accuracy: 0.6274 - val_loss: 2.4948 - val_accuracy: 0.4126\n",
      "Epoch 5/25\n",
      "168/168 [==============================] - 3s 18ms/step - loss: 1.1692 - accuracy: 0.7229 - val_loss: 2.4303 - val_accuracy: 0.4454\n",
      "Epoch 6/25\n",
      "168/168 [==============================] - 3s 17ms/step - loss: 0.8840 - accuracy: 0.7877 - val_loss: 2.4339 - val_accuracy: 0.4604\n",
      "Epoch 7/25\n",
      "168/168 [==============================] - 3s 16ms/step - loss: 0.6834 - accuracy: 0.8401 - val_loss: 2.5082 - val_accuracy: 0.4611\n",
      "Epoch 8/25\n",
      "168/168 [==============================] - 3s 16ms/step - loss: 0.5611 - accuracy: 0.8615 - val_loss: 2.5654 - val_accuracy: 0.4589\n",
      "Epoch 9/25\n",
      "168/168 [==============================] - 3s 16ms/step - loss: 0.4569 - accuracy: 0.8870 - val_loss: 2.6322 - val_accuracy: 0.4686\n",
      "Epoch 10/25\n",
      "168/168 [==============================] - 3s 16ms/step - loss: 0.3890 - accuracy: 0.9008 - val_loss: 2.6917 - val_accuracy: 0.4537\n"
     ]
    },
    {
     "data": {
      "text/plain": [
       "[<matplotlib.lines.Line2D at 0x37ec77c40>]"
      ]
     },
     "execution_count": 17,
     "metadata": {},
     "output_type": "execute_result"
    },
    {
     "data": {
      "image/png": "[encoded data removed]",
      "text/plain": [
       "<Figure size 640x480 with 1 Axes>"
      ]
     },
     "metadata": {},
     "output_type": "display_data"
    }
   ],
   "source": [
    "history = model.fit(X_train, y_train, epochs=25, batch_size=32, validation_data=(X_val, y_val), callbacks=[early_stopping])\n",
    "plt.plot(history.history['accuracy'], label='accuracy')\n",
    "plt.plot(history.history['val_accuracy'], label='val_accuracy')"
   ]
  },
  {
   "cell_type": "code",
   "execution_count": 21,
   "id": "63423502",
   "metadata": {},
   "outputs": [
    {
     "name": "stdout",
     "output_type": "stream",
     "text": [
      "1/1 [==============================] - 0s 14ms/step\n",
      "Top 5 Predicted Departments:\n",
      "Applied Mathematics: 0.5323\n",
      "Computer Science: 0.1802\n",
      "Mathematics: 0.0758\n",
      "Geology: 0.0567\n",
      "Physics: 0.0268\n",
      "Text: Computational Statistics => Predicted Label: Applied Mathematics\n"
     ]
    }
   ],
   "source": [
    "predict_text = [\"Computational Statistics\"]\n",
    "predict_seq = tokenizer_pretrained(predict_text, padding='max_length', max_length=max_length_pretrained, return_tensors=\"np\")['input_ids']\n",
    "predictions = model.predict(predict_seq)\n",
    "\n",
    "# Print probability diestribution\n",
    "predictions = pd.DataFrame(predictions, columns=label_encoder.classes_)\n",
    "pred_series = predictions.iloc[0]\n",
    "top_5 = pred_series.sort_values(ascending=False).head(5)\n",
    "print(\"Top 5 Predicted Departments:\")\n",
    "for dept, prob in top_5.items():\n",
    "    print(f\"{dept}: {prob:.4f}\")\n",
    "\n",
    "predicted_labels = np.argmax(predictions, axis=1)\n",
    "predicted_labels_text = label_encoder.inverse_transform(predicted_labels)\n",
    "for text, label in zip(predict_text, predicted_labels_text):\n",
    "    print(f\"Text: {text} => Predicted Label: {label}\")"
   ]
  },
  {
   "cell_type": "code",
   "execution_count": 22,
   "id": "e1c26856",
   "metadata": {},
   "outputs": [
    {
     "name": "stderr",
     "output_type": "stream",
     "text": [
      "/Users/chaiharsha/Documents/course_classifier/courseenvfull/lib/python3.10/site-packages/keras/src/engine/training.py:3079: UserWarning: You are saving your model as an HDF5 file via `model.save()`. This file format is considered legacy. We recommend using instead the native Keras format, e.g. `model.save('my_model.keras')`.\n",
      "  saving_api.save_model(\n"
     ]
    }
   ],
   "source": [
    "model.save('lstm_tf_pretrainedtokenizer.h5')"
   ]
  }
 ],
 "metadata": {
  "kernelspec": {
   "display_name": "courseenvfull",
   "language": "python",
   "name": "python3"
  },
  "language_info": {
   "codemirror_mode": {
    "name": "ipython",
    "version": 3
   },
   "file_extension": ".py",
   "mimetype": "text/x-python",
   "name": "python",
   "nbconvert_exporter": "python",
   "pygments_lexer": "ipython3",
   "version": "3.10.9"
  }
 },
 "nbformat": 4,
 "nbformat_minor": 5
}
