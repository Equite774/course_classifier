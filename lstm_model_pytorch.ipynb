{
 "cells": [
  {
   "cell_type": "code",
   "execution_count": 1,
   "id": "9dc76c53",
   "metadata": {},
   "outputs": [
    {
     "name": "stderr",
     "output_type": "stream",
     "text": [
      "/var/folders/8v/z7_lynrn24bbpwy6p36j3cwc0000gn/T/ipykernel_21309/3463338737.py:2: DeprecationWarning: \n",
      "Pyarrow will become a required dependency of pandas in the next major release of pandas (pandas 3.0),\n",
      "(to allow more performant data types, such as the Arrow string type, and better interoperability with other libraries)\n",
      "but was not found to be installed on your system.\n",
      "If this would cause problems for you,\n",
      "please provide us feedback at https://github.com/pandas-dev/pandas/issues/54466\n",
      "        \n",
      "  import pandas as pd\n",
      "/Users/chaiharsha/Documents/course_classifier/courseenvfull/lib/python3.10/site-packages/torchtext/data/__init__.py:4: UserWarning: \n",
      "/!\\ IMPORTANT WARNING ABOUT TORCHTEXT STATUS /!\\ \n",
      "Torchtext is deprecated and the last released version will be 0.18 (this one). You can silence this warning by calling the following at the beginnign of your scripts: `import torchtext; torchtext.disable_torchtext_deprecation_warning()`\n",
      "  warnings.warn(torchtext._TORCHTEXT_DEPRECATION_MSG)\n",
      "/Users/chaiharsha/Documents/course_classifier/courseenvfull/lib/python3.10/site-packages/torchtext/vocab/__init__.py:4: UserWarning: \n",
      "/!\\ IMPORTANT WARNING ABOUT TORCHTEXT STATUS /!\\ \n",
      "Torchtext is deprecated and the last released version will be 0.18 (this one). You can silence this warning by calling the following at the beginnign of your scripts: `import torchtext; torchtext.disable_torchtext_deprecation_warning()`\n",
      "  warnings.warn(torchtext._TORCHTEXT_DEPRECATION_MSG)\n",
      "/Users/chaiharsha/Documents/course_classifier/courseenvfull/lib/python3.10/site-packages/torchtext/utils.py:4: UserWarning: \n",
      "/!\\ IMPORTANT WARNING ABOUT TORCHTEXT STATUS /!\\ \n",
      "Torchtext is deprecated and the last released version will be 0.18 (this one). You can silence this warning by calling the following at the beginnign of your scripts: `import torchtext; torchtext.disable_torchtext_deprecation_warning()`\n",
      "  warnings.warn(torchtext._TORCHTEXT_DEPRECATION_MSG)\n"
     ]
    }
   ],
   "source": [
    "import numpy as np\n",
    "import pandas as pd\n",
    "import matplotlib.pyplot as plt\n",
    "import torch\n",
    "import torchtext\n",
    "from torchtext.data import get_tokenizer\n",
    "import spacy\n",
    "from torch.nn.utils.rnn import pad_sequence\n",
    "from collections import Counter\n",
    "from torchtext.vocab import vocab as build_vocab\n",
    "from torch.utils.data import DataLoader, TensorDataset\n",
    "import sklearn\n",
    "from sklearn.preprocessing import LabelEncoder\n",
    "from sklearn.model_selection import train_test_split"
   ]
  },
  {
   "cell_type": "code",
   "execution_count": 2,
   "id": "51a59b77",
   "metadata": {},
   "outputs": [
    {
     "data": {
      "text/html": [
       "<div>\n",
       "<style scoped>\n",
       "    .dataframe tbody tr th:only-of-type {\n",
       "        vertical-align: middle;\n",
       "    }\n",
       "\n",
       "    .dataframe tbody tr th {\n",
       "        vertical-align: top;\n",
       "    }\n",
       "\n",
       "    .dataframe thead th {\n",
       "        text-align: right;\n",
       "    }\n",
       "</style>\n",
       "<table border=\"1\" class=\"dataframe\">\n",
       "  <thead>\n",
       "    <tr style=\"text-align: right;\">\n",
       "      <th></th>\n",
       "      <th>Course</th>\n",
       "      <th>ID</th>\n",
       "      <th>Department</th>\n",
       "    </tr>\n",
       "  </thead>\n",
       "  <tbody>\n",
       "    <tr>\n",
       "      <th>0</th>\n",
       "      <td>Principles of Nutrition</td>\n",
       "      <td>BIOL</td>\n",
       "      <td>Biology</td>\n",
       "    </tr>\n",
       "    <tr>\n",
       "      <th>1</th>\n",
       "      <td>Nutrition for Fitness and Physical Activity</td>\n",
       "      <td>BIOL</td>\n",
       "      <td>Biology</td>\n",
       "    </tr>\n",
       "    <tr>\n",
       "      <th>2</th>\n",
       "      <td>Introduction to Human Physiology</td>\n",
       "      <td>BIOL</td>\n",
       "      <td>Biology</td>\n",
       "    </tr>\n",
       "    <tr>\n",
       "      <th>3</th>\n",
       "      <td>Biotechnology Management</td>\n",
       "      <td>BIOL</td>\n",
       "      <td>Biology</td>\n",
       "    </tr>\n",
       "    <tr>\n",
       "      <th>4</th>\n",
       "      <td>Living Biology at Brown and Beyond</td>\n",
       "      <td>BIOL</td>\n",
       "      <td>Biology</td>\n",
       "    </tr>\n",
       "  </tbody>\n",
       "</table>\n",
       "</div>"
      ],
      "text/plain": [
       "                                        Course    ID Department\n",
       "0                      Principles of Nutrition  BIOL    Biology\n",
       "1  Nutrition for Fitness and Physical Activity  BIOL    Biology\n",
       "2             Introduction to Human Physiology  BIOL    Biology\n",
       "3                     Biotechnology Management  BIOL    Biology\n",
       "4           Living Biology at Brown and Beyond  BIOL    Biology"
      ]
     },
     "execution_count": 2,
     "metadata": {},
     "output_type": "execute_result"
    }
   ],
   "source": [
    "df = pd.read_csv(\"courses.csv\")\n",
    "pd.set_option('display.max_rows', None)\n",
    "df.head()"
   ]
  },
  {
   "cell_type": "code",
   "execution_count": 3,
   "id": "3e40a9c1",
   "metadata": {},
   "outputs": [],
   "source": [
    "labels_text = df['Department']\n",
    "text = df['Course']"
   ]
  },
  {
   "cell_type": "code",
   "execution_count": 4,
   "id": "c00af963",
   "metadata": {},
   "outputs": [
    {
     "name": "stdout",
     "output_type": "stream",
     "text": [
      "Vocabulary size: 4489\n"
     ]
    }
   ],
   "source": [
    "tokenizer = get_tokenizer(\"spacy\", language=\"en_core_web_sm\")\n",
    "tokens = [tokenizer(t) for t in text]\n",
    "counter = Counter(word for seq in tokens for word in seq)\n",
    "vocab = build_vocab(counter, specials=[\"<unk>\"])\n",
    "vocab.set_default_index(vocab[\"<unk>\"])\n",
    "print(\"Vocabulary size:\", len(vocab))"
   ]
  },
  {
   "cell_type": "code",
   "execution_count": 5,
   "id": "b04bf601",
   "metadata": {},
   "outputs": [
    {
     "name": "stdout",
     "output_type": "stream",
     "text": [
      "torch.Size([6690, 18])\n"
     ]
    }
   ],
   "source": [
    "sequences = [torch.tensor([vocab[token] for token in seq]) for seq in tokens]\n",
    "padded_sequences = pad_sequence(sequences, batch_first=True, padding_value=vocab[\"<unk>\"])\n",
    "print(padded_sequences.shape)"
   ]
  },
  {
   "cell_type": "code",
   "execution_count": 6,
   "id": "cc754214",
   "metadata": {},
   "outputs": [],
   "source": [
    "label_encoder = LabelEncoder()\n",
    "labels_encoded = label_encoder.fit_transform(labels_text)\n",
    "output_dim = len(label_encoder.classes_)"
   ]
  },
  {
   "cell_type": "code",
   "execution_count": null,
   "id": "d238a5a7",
   "metadata": {},
   "outputs": [
    {
     "ename": "SyntaxError",
     "evalue": "unmatched ')' (1973048726.py, line 1)",
     "output_type": "error",
     "traceback": [
      "\u001b[0;36m  Cell \u001b[0;32mIn[98], line 1\u001b[0;36m\u001b[0m\n\u001b[0;31m    X_train, X_test, y_train, y_test = train_test_split(padded_sequences, labels_encoded, test_size=0.2, random_state=17))\u001b[0m\n\u001b[0m                                                                                                                         ^\u001b[0m\n\u001b[0;31mSyntaxError\u001b[0m\u001b[0;31m:\u001b[0m unmatched ')'\n"
     ]
    }
   ],
   "source": [
    "X_train, X_test, y_train, y_test = train_test_split(padded_sequences, labels_encoded, test_size=0.2, random_state=17)\n",
    "train_data = TensorDataset(X_train, torch.tensor(y_train))\n",
    "test_data = TensorDataset(X_test, torch.tensor(y_test))\n",
    "train_loader = DataLoader(train_data, batch_size=32, shuffle=True)\n",
    "test_loader = DataLoader(test_data, batch_size=32, shuffle=False)"
   ]
  },
  {
   "cell_type": "code",
   "execution_count": 8,
   "id": "ba225f69",
   "metadata": {},
   "outputs": [],
   "source": [
    "embeddings_index = {}\n",
    "with open('glove.6B.100d.txt') as f:\n",
    "    for line in f:\n",
    "        word, coefs = line.split(maxsplit=1)\n",
    "        coefs = np.fromstring(coefs, \"f\", sep=\" \")\n",
    "        embeddings_index[word] = coefs"
   ]
  },
  {
   "cell_type": "code",
   "execution_count": 9,
   "id": "e1899202",
   "metadata": {},
   "outputs": [],
   "source": [
    "embedding_dim = 100\n",
    "embedding_matrix = np.zeros((len(vocab), embedding_dim))\n",
    "for i, word in vocab.get_stoi().items():\n",
    "    embedding_vector = embeddings_index.get(word)\n",
    "    if embedding_vector is not None:\n",
    "        embedding_matrix[i] = embedding_vector\n",
    "torch_embeddings = torch.tensor(embedding_matrix, dtype=torch.float32)"
   ]
  },
  {
   "cell_type": "code",
   "execution_count": 87,
   "id": "9e7c145b",
   "metadata": {},
   "outputs": [],
   "source": [
    "class LSTMClassifier(torch.nn.Module):\n",
    "    def __init__(self, vocab_size=len(vocab), embedding_dim=embedding_dim, hidden_dim=64, output_dim=output_dim, num_layers=1):\n",
    "        super(LSTMClassifier, self).__init__()\n",
    "        self.hidden_dim = hidden_dim\n",
    "        self.layer_dim = num_layers * 2 # Bidirectional LSTM doubles the layer dimension\n",
    "        self.embedding = torch.nn.Embedding.from_pretrained(torch_embeddings, freeze=False)\n",
    "        self.lstm = torch.nn.LSTM(embedding_dim, hidden_dim, num_layers=num_layers, bidirectional=True, batch_first=True)\n",
    "        self.fc = torch.nn.Linear(2*hidden_dim, output_dim)\n",
    "\n",
    "    def forward(self, x, h0=None, c0=None):\n",
    "        if h0 is None or c0 is None:\n",
    "            h0 = torch.zeros(self.layer_dim, x.size(0), self.hidden_dim)\n",
    "            c0 = torch.zeros(self.layer_dim, x.size(0), self.hidden_dim)\n",
    "        embedded = self.embedding(x)\n",
    "        lstm_out, (hn, cn) = self.lstm(embedded, (h0, c0))\n",
    "        out = self.fc(lstm_out[:, -1, :])\n",
    "        return out, hn, cn"
   ]
  },
  {
   "cell_type": "code",
   "execution_count": 88,
   "id": "47d6785c",
   "metadata": {},
   "outputs": [
    {
     "name": "stdout",
     "output_type": "stream",
     "text": [
      "LSTMClassifier(\n",
      "  (embedding): Embedding(4489, 100)\n",
      "  (lstm): LSTM(100, 64, batch_first=True, bidirectional=True)\n",
      "  (fc): Linear(in_features=128, out_features=77, bias=True)\n",
      ")\n"
     ]
    }
   ],
   "source": [
    "model = LSTMClassifier(num_layers=1)\n",
    "loss_fn = torch.nn.CrossEntropyLoss()\n",
    "optimizer = torch.optim.Adam(model.parameters(), lr=0.001)\n",
    "print(model)"
   ]
  },
  {
   "cell_type": "code",
   "execution_count": 89,
   "id": "dcafaced",
   "metadata": {},
   "outputs": [],
   "source": [
    "def train_loop(model, train_loader, val_loader, loss_fn, optimizer, num_epochs=10):\n",
    "    history = {'train_loss': [], 'train_acc': [], 'val_loss': [], 'val_acc': []}\n",
    "\n",
    "    for epoch in range(num_epochs):\n",
    "        model.train()\n",
    "        total_loss, correct, total = 0, 0, 0        \n",
    "\n",
    "        for inputs, targets in train_loader:\n",
    "            \n",
    "            h0 = torch.zeros(model.layer_dim, inputs.size(0), model.hidden_dim)\n",
    "            c0 = torch.zeros(model.layer_dim, inputs.size(0), model.hidden_dim)\n",
    "\n",
    "            optimizer.zero_grad()\n",
    "            outputs, h0, c0 = model(inputs, h0, c0)\n",
    "            loss = loss_fn(outputs, targets)\n",
    "            loss.backward()\n",
    "            optimizer.step()\n",
    "\n",
    "            total_loss += loss.item() * targets.size(0)\n",
    "            correct += (outputs.argmax(1) == targets).sum().item()\n",
    "            total += targets.size(0)\n",
    "\n",
    "        train_loss = total_loss / total\n",
    "        train_acc = correct / total\n",
    "        history['train_loss'].append(train_loss)\n",
    "        history['train_acc'].append(train_acc)\n",
    "\n",
    "        # Validation\n",
    "        model.eval()\n",
    "        val_loss, val_correct, val_total = 0, 0, 0\n",
    "        with torch.no_grad():\n",
    "            for inputs, targets in val_loader:\n",
    "                h0 = torch.zeros(model.layer_dim, inputs.size(0), model.hidden_dim)\n",
    "                c0 = torch.zeros(model.layer_dim, inputs.size(0), model.hidden_dim)\n",
    "                outputs, _, _ = model(inputs, h0, c0)\n",
    "                loss = loss_fn(outputs, targets)\n",
    "\n",
    "                val_loss += loss.item() * targets.size(0)\n",
    "                val_correct += (outputs.argmax(1) == targets).sum().item()\n",
    "                val_total += targets.size(0)\n",
    "\n",
    "        val_loss /= val_total\n",
    "        val_acc = val_correct / val_total\n",
    "        history['val_loss'].append(val_loss)\n",
    "        history['val_acc'].append(val_acc)\n",
    "\n",
    "        print(f\"Epoch {epoch+1}/{num_epochs}: \"\n",
    "              f\"Train Loss: {train_loss:.4f}, Train Acc: {train_acc:.4f} | \"\n",
    "              f\"Val Loss: {val_loss:.4f}, Val Acc: {val_acc:.4f}\")\n",
    "\n",
    "    return history"
   ]
  },
  {
   "cell_type": "code",
   "execution_count": 90,
   "id": "2bb05078",
   "metadata": {},
   "outputs": [
    {
     "name": "stdout",
     "output_type": "stream",
     "text": [
      "Epoch 1/75: Train Loss: 3.8922, Train Acc: 0.0787 | Val Loss: 3.8156, Val Acc: 0.0845\n",
      "Epoch 2/75: Train Loss: 3.7587, Train Acc: 0.0854 | Val Loss: 3.7280, Val Acc: 0.0889\n",
      "Epoch 3/75: Train Loss: 3.2939, Train Acc: 0.1261 | Val Loss: 3.6168, Val Acc: 0.1039\n",
      "Epoch 4/75: Train Loss: 2.8916, Train Acc: 0.2109 | Val Loss: 3.6143, Val Acc: 0.1607\n",
      "Epoch 5/75: Train Loss: 2.5421, Train Acc: 0.2642 | Val Loss: 3.4441, Val Acc: 0.1786\n",
      "Epoch 6/75: Train Loss: 2.1205, Train Acc: 0.3980 | Val Loss: 3.3618, Val Acc: 0.2272\n",
      "Epoch 7/75: Train Loss: 1.7826, Train Acc: 0.4804 | Val Loss: 3.3968, Val Acc: 0.2578\n",
      "Epoch 8/75: Train Loss: 1.4971, Train Acc: 0.5869 | Val Loss: 3.4041, Val Acc: 0.2885\n",
      "Epoch 9/75: Train Loss: 1.2862, Train Acc: 0.6665 | Val Loss: 3.3344, Val Acc: 0.3244\n",
      "Epoch 10/75: Train Loss: 1.0857, Train Acc: 0.7231 | Val Loss: 3.3267, Val Acc: 0.3318\n",
      "Epoch 11/75: Train Loss: 0.9457, Train Acc: 0.7554 | Val Loss: 3.3228, Val Acc: 0.3468\n",
      "Epoch 12/75: Train Loss: 0.8408, Train Acc: 0.7891 | Val Loss: 3.4008, Val Acc: 0.3587\n",
      "Epoch 13/75: Train Loss: 0.7318, Train Acc: 0.8309 | Val Loss: 3.3760, Val Acc: 0.3842\n",
      "Epoch 14/75: Train Loss: 0.6580, Train Acc: 0.8442 | Val Loss: 3.3692, Val Acc: 0.3782\n",
      "Epoch 15/75: Train Loss: 0.5742, Train Acc: 0.8741 | Val Loss: 3.4590, Val Acc: 0.3901\n",
      "Epoch 16/75: Train Loss: 0.5177, Train Acc: 0.8821 | Val Loss: 3.5365, Val Acc: 0.3849\n",
      "Epoch 17/75: Train Loss: 0.4899, Train Acc: 0.8838 | Val Loss: 3.4448, Val Acc: 0.4103\n",
      "Epoch 18/75: Train Loss: 0.4373, Train Acc: 0.9017 | Val Loss: 3.4774, Val Acc: 0.4088\n",
      "Epoch 19/75: Train Loss: 0.3893, Train Acc: 0.9122 | Val Loss: 3.5450, Val Acc: 0.4058\n",
      "Epoch 20/75: Train Loss: 0.3543, Train Acc: 0.9176 | Val Loss: 3.6054, Val Acc: 0.4126\n",
      "Epoch 21/75: Train Loss: 0.3324, Train Acc: 0.9258 | Val Loss: 3.5917, Val Acc: 0.4073\n",
      "Epoch 22/75: Train Loss: 0.3125, Train Acc: 0.9269 | Val Loss: 3.6658, Val Acc: 0.4193\n",
      "Epoch 23/75: Train Loss: 0.3108, Train Acc: 0.9258 | Val Loss: 3.7311, Val Acc: 0.4028\n",
      "Epoch 24/75: Train Loss: 0.3131, Train Acc: 0.9249 | Val Loss: 3.6922, Val Acc: 0.4133\n",
      "Epoch 25/75: Train Loss: 0.2885, Train Acc: 0.9266 | Val Loss: 3.7663, Val Acc: 0.4148\n",
      "Epoch 26/75: Train Loss: 0.3029, Train Acc: 0.9230 | Val Loss: 3.7763, Val Acc: 0.4096\n",
      "Epoch 27/75: Train Loss: 0.2770, Train Acc: 0.9299 | Val Loss: 3.7565, Val Acc: 0.4163\n",
      "Epoch 28/75: Train Loss: 0.2386, Train Acc: 0.9380 | Val Loss: 3.8253, Val Acc: 0.4170\n",
      "Epoch 29/75: Train Loss: 0.2196, Train Acc: 0.9428 | Val Loss: 3.8514, Val Acc: 0.4051\n",
      "Epoch 30/75: Train Loss: 0.2265, Train Acc: 0.9406 | Val Loss: 3.8942, Val Acc: 0.4118\n",
      "Epoch 31/75: Train Loss: 0.1995, Train Acc: 0.9482 | Val Loss: 3.9144, Val Acc: 0.4170\n",
      "Epoch 32/75: Train Loss: 0.1859, Train Acc: 0.9501 | Val Loss: 3.9176, Val Acc: 0.4230\n",
      "Epoch 33/75: Train Loss: 0.1743, Train Acc: 0.9540 | Val Loss: 3.9759, Val Acc: 0.4133\n",
      "Epoch 34/75: Train Loss: 0.1801, Train Acc: 0.9516 | Val Loss: 3.9974, Val Acc: 0.4178\n",
      "Epoch 35/75: Train Loss: 0.1795, Train Acc: 0.9512 | Val Loss: 4.0222, Val Acc: 0.4200\n",
      "Epoch 36/75: Train Loss: 0.1854, Train Acc: 0.9492 | Val Loss: 3.9869, Val Acc: 0.4155\n",
      "Epoch 37/75: Train Loss: 0.1970, Train Acc: 0.9425 | Val Loss: 4.0010, Val Acc: 0.4163\n",
      "Epoch 38/75: Train Loss: 0.2017, Train Acc: 0.9404 | Val Loss: 4.1395, Val Acc: 0.4096\n",
      "Epoch 39/75: Train Loss: 0.1702, Train Acc: 0.9505 | Val Loss: 4.1308, Val Acc: 0.4126\n",
      "Epoch 40/75: Train Loss: 0.1619, Train Acc: 0.9531 | Val Loss: 4.2160, Val Acc: 0.4133\n",
      "Epoch 41/75: Train Loss: 0.1469, Train Acc: 0.9574 | Val Loss: 4.1544, Val Acc: 0.4193\n",
      "Epoch 42/75: Train Loss: 0.1412, Train Acc: 0.9591 | Val Loss: 4.1437, Val Acc: 0.4141\n",
      "Epoch 43/75: Train Loss: 0.1386, Train Acc: 0.9585 | Val Loss: 4.2354, Val Acc: 0.4230\n",
      "Epoch 44/75: Train Loss: 0.1553, Train Acc: 0.9524 | Val Loss: 4.1851, Val Acc: 0.4200\n",
      "Epoch 45/75: Train Loss: 0.1430, Train Acc: 0.9585 | Val Loss: 4.2054, Val Acc: 0.4126\n",
      "Epoch 46/75: Train Loss: 0.1416, Train Acc: 0.9567 | Val Loss: 4.2881, Val Acc: 0.4088\n",
      "Epoch 47/75: Train Loss: 0.1325, Train Acc: 0.9589 | Val Loss: 4.2332, Val Acc: 0.4103\n",
      "Epoch 48/75: Train Loss: 0.1110, Train Acc: 0.9630 | Val Loss: 4.2930, Val Acc: 0.4223\n",
      "Epoch 49/75: Train Loss: 0.1296, Train Acc: 0.9583 | Val Loss: 4.2707, Val Acc: 0.4141\n",
      "Epoch 50/75: Train Loss: 0.1254, Train Acc: 0.9596 | Val Loss: 4.2447, Val Acc: 0.4081\n",
      "Epoch 51/75: Train Loss: 0.1160, Train Acc: 0.9623 | Val Loss: 4.2771, Val Acc: 0.4081\n",
      "Epoch 52/75: Train Loss: 0.1163, Train Acc: 0.9628 | Val Loss: 4.3468, Val Acc: 0.4200\n",
      "Epoch 53/75: Train Loss: 0.0997, Train Acc: 0.9651 | Val Loss: 4.3963, Val Acc: 0.4260\n",
      "Epoch 54/75: Train Loss: 0.0913, Train Acc: 0.9667 | Val Loss: 4.4253, Val Acc: 0.4178\n",
      "Epoch 55/75: Train Loss: 0.0973, Train Acc: 0.9679 | Val Loss: 4.4222, Val Acc: 0.4208\n",
      "Epoch 56/75: Train Loss: 0.0922, Train Acc: 0.9656 | Val Loss: 4.4812, Val Acc: 0.4178\n",
      "Epoch 57/75: Train Loss: 0.0946, Train Acc: 0.9658 | Val Loss: 4.4683, Val Acc: 0.4208\n",
      "Epoch 58/75: Train Loss: 0.0960, Train Acc: 0.9645 | Val Loss: 4.5075, Val Acc: 0.4126\n",
      "Epoch 59/75: Train Loss: 0.1141, Train Acc: 0.9613 | Val Loss: 4.5803, Val Acc: 0.4096\n",
      "Epoch 60/75: Train Loss: 0.1037, Train Acc: 0.9662 | Val Loss: 4.5654, Val Acc: 0.4170\n",
      "Epoch 61/75: Train Loss: 0.1112, Train Acc: 0.9621 | Val Loss: 4.5618, Val Acc: 0.4133\n",
      "Epoch 62/75: Train Loss: 0.1126, Train Acc: 0.9606 | Val Loss: 4.5286, Val Acc: 0.4215\n",
      "Epoch 63/75: Train Loss: 0.1150, Train Acc: 0.9626 | Val Loss: 4.4770, Val Acc: 0.4230\n",
      "Epoch 64/75: Train Loss: 0.1069, Train Acc: 0.9647 | Val Loss: 4.4751, Val Acc: 0.4133\n",
      "Epoch 65/75: Train Loss: 0.1015, Train Acc: 0.9632 | Val Loss: 4.5404, Val Acc: 0.4118\n",
      "Epoch 66/75: Train Loss: 0.0992, Train Acc: 0.9645 | Val Loss: 4.5830, Val Acc: 0.4133\n",
      "Epoch 67/75: Train Loss: 0.0820, Train Acc: 0.9703 | Val Loss: 4.6563, Val Acc: 0.4163\n",
      "Epoch 68/75: Train Loss: 0.0824, Train Acc: 0.9694 | Val Loss: 4.6510, Val Acc: 0.4111\n",
      "Epoch 69/75: Train Loss: 0.0756, Train Acc: 0.9686 | Val Loss: 4.7263, Val Acc: 0.4178\n",
      "Epoch 70/75: Train Loss: 0.0767, Train Acc: 0.9725 | Val Loss: 4.7024, Val Acc: 0.4208\n",
      "Epoch 71/75: Train Loss: 0.0670, Train Acc: 0.9729 | Val Loss: 4.7829, Val Acc: 0.4141\n",
      "Epoch 72/75: Train Loss: 0.0702, Train Acc: 0.9729 | Val Loss: 4.7635, Val Acc: 0.4245\n",
      "Epoch 73/75: Train Loss: 0.0625, Train Acc: 0.9737 | Val Loss: 4.8068, Val Acc: 0.4141\n",
      "Epoch 74/75: Train Loss: 0.0677, Train Acc: 0.9729 | Val Loss: 4.8632, Val Acc: 0.4155\n",
      "Epoch 75/75: Train Loss: 0.0621, Train Acc: 0.9735 | Val Loss: 4.8158, Val Acc: 0.4215\n"
     ]
    }
   ],
   "source": [
    "history = train_loop(model, train_loader, test_loader, loss_fn, optimizer, num_epochs=75)"
   ]
  },
  {
   "cell_type": "code",
   "execution_count": 95,
   "id": "921339e1",
   "metadata": {},
   "outputs": [
    {
     "name": "stdout",
     "output_type": "stream",
     "text": [
      "Top 5 predicted departments for 'Introduction to Machine Learning':\n",
      "1. Public Health: 33.38%\n",
      "2. Computer Science: 12.82%\n",
      "3. Data Science: 6.18%\n",
      "4. Modern Culture and Media: 4.40%\n",
      "5. Engineering: 3.38%\n"
     ]
    }
   ],
   "source": [
    "predict_text = \"Introduction to Machine Learning\"\n",
    "tokens = tokenizer(predict_text)\n",
    "sequence = torch.tensor([vocab[token] for token in tokens]).unsqueeze(0)\n",
    "with torch.no_grad():\n",
    "    model.eval()\n",
    "    h0 = c0 = None\n",
    "    output = model(sequence, h0, c0)[0]\n",
    "    probabilities = torch.nn.functional.softmax(output, dim=1)\n",
    "\n",
    "    top_probs, top_indices = torch.topk(probabilities, k=5)\n",
    "    top_probs = top_probs.squeeze().tolist()\n",
    "    top_indices = top_indices.squeeze().tolist()\n",
    "\n",
    "    print(f\"Top 5 predicted departments for '{predict_text}':\")\n",
    "    for i, (prob, idx) in enumerate(zip(top_probs, top_indices)):\n",
    "        department = label_encoder.inverse_transform([idx])[0]\n",
    "        print(f\"{i+1}. {department}: {prob*100:.2f}%\")"
   ]
  },
  {
   "cell_type": "code",
   "execution_count": 96,
   "id": "ea0c08af",
   "metadata": {},
   "outputs": [],
   "source": [
    "# Save model\n",
    "torch.save(model.state_dict(), \"lstm_pt.pth\")"
   ]
  }
 ],
 "metadata": {
  "kernelspec": {
   "display_name": "courseenvfull",
   "language": "python",
   "name": "python3"
  },
  "language_info": {
   "codemirror_mode": {
    "name": "ipython",
    "version": 3
   },
   "file_extension": ".py",
   "mimetype": "text/x-python",
   "name": "python",
   "nbconvert_exporter": "python",
   "pygments_lexer": "ipython3",
   "version": "3.10.9"
  }
 },
 "nbformat": 4,
 "nbformat_minor": 5
}
